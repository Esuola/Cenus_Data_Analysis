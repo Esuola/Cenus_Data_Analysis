{
 "cells": [
  {
   "cell_type": "markdown",
   "id": "2db96954",
   "metadata": {},
   "source": [
    "# Census Data Analysis\n"
   ]
  },
  {
   "cell_type": "markdown",
   "id": "b00e4c17",
   "metadata": {},
   "source": [
    "### Background:\n",
    "\n",
    "Every ten years, the United Kingdom undertakes a census of the population, with the most recent one having\n",
    "been conducted in 2021. \n",
    "\n",
    "The purpose of such a census is to compare different people across the nation and to\n",
    "provide the government with accurate statistics of the population to enable better planning, to develop policies,\n",
    "and to allocate certain funding.\n",
    "\n",
    "In the project, you will be provided with a mock census of an imaginary modest town. I would like you to\n",
    "consider yourselves to be part of a local government team who will be making decisions on what to do with an\n",
    "unoccupied plot of land and what to invest in. To address these questions, you will need to clean and analyse the\n",
    "mock census data provided."
   ]
  },
  {
   "cell_type": "markdown",
   "id": "341552c1",
   "metadata": {},
   "source": [
    " "
   ]
  },
  {
   "cell_type": "markdown",
   "id": "f2fb68ed",
   "metadata": {},
   "source": [
    "## Importing the necessary library for my Census Data Analysis"
   ]
  },
  {
   "cell_type": "code",
   "execution_count": 1,
   "id": "27631374",
   "metadata": {},
   "outputs": [],
   "source": [
    "import pandas as pd\n",
    "import seaborn as sns\n",
    "import matplotlib.pyplot as plt\n",
    "%matplotlib inline\n",
    "import numpy as np\n",
    "import warnings \n",
    "warnings.simplefilter(\"ignore\")"
   ]
  },
  {
   "cell_type": "markdown",
   "id": "ec60c45a",
   "metadata": {},
   "source": [
    " "
   ]
  },
  {
   "cell_type": "markdown",
   "id": "1a9004c2",
   "metadata": {},
   "source": [
    "## A - Importing my data set for cleaning and analysis"
   ]
  },
  {
   "cell_type": "code",
   "execution_count": 2,
   "id": "08183266",
   "metadata": {},
   "outputs": [],
   "source": [
    "try:\n",
    "    #pd.set_option('display.max_rows', None)\n",
    "    census_data = pd.read_csv('census06.csv') \n",
    "\n",
    "except Exception as exc:\n",
    "    print(exc)"
   ]
  },
  {
   "cell_type": "markdown",
   "id": "b64ad305",
   "metadata": {},
   "source": [
    "  "
   ]
  },
  {
   "cell_type": "markdown",
   "id": "3c215fcb",
   "metadata": {},
   "source": [
    "## B - Inspecting my imported datasets"
   ]
  },
  {
   "cell_type": "code",
   "execution_count": 3,
   "id": "79421a74",
   "metadata": {},
   "outputs": [
    {
     "data": {
      "text/html": [
       "<div>\n",
       "<style scoped>\n",
       "    .dataframe tbody tr th:only-of-type {\n",
       "        vertical-align: middle;\n",
       "    }\n",
       "\n",
       "    .dataframe tbody tr th {\n",
       "        vertical-align: top;\n",
       "    }\n",
       "\n",
       "    .dataframe thead th {\n",
       "        text-align: right;\n",
       "    }\n",
       "</style>\n",
       "<table border=\"1\" class=\"dataframe\">\n",
       "  <thead>\n",
       "    <tr style=\"text-align: right;\">\n",
       "      <th></th>\n",
       "      <th>House Number</th>\n",
       "      <th>Street</th>\n",
       "      <th>First Name</th>\n",
       "      <th>Surname</th>\n",
       "      <th>Age</th>\n",
       "      <th>Relationship to Head of House</th>\n",
       "      <th>Marital Status</th>\n",
       "      <th>Gender</th>\n",
       "      <th>Occupation</th>\n",
       "      <th>Infirmity</th>\n",
       "      <th>Religion</th>\n",
       "    </tr>\n",
       "  </thead>\n",
       "  <tbody>\n",
       "    <tr>\n",
       "      <th>0</th>\n",
       "      <td>1</td>\n",
       "      <td>Scott Dale</td>\n",
       "      <td>Maureen</td>\n",
       "      <td>Cox</td>\n",
       "      <td>50</td>\n",
       "      <td>Head</td>\n",
       "      <td>Single</td>\n",
       "      <td>Female</td>\n",
       "      <td>Engineer, building services</td>\n",
       "      <td>None</td>\n",
       "      <td>Catholic</td>\n",
       "    </tr>\n",
       "    <tr>\n",
       "      <th>1</th>\n",
       "      <td>1</td>\n",
       "      <td>Scott Dale</td>\n",
       "      <td>Rhys</td>\n",
       "      <td>Brown</td>\n",
       "      <td>52</td>\n",
       "      <td>Partner</td>\n",
       "      <td>Single</td>\n",
       "      <td>Male</td>\n",
       "      <td>Engineer, mining</td>\n",
       "      <td>None</td>\n",
       "      <td>Catholic</td>\n",
       "    </tr>\n",
       "    <tr>\n",
       "      <th>2</th>\n",
       "      <td>2</td>\n",
       "      <td>Scott Dale</td>\n",
       "      <td>Lorraine</td>\n",
       "      <td>Allen</td>\n",
       "      <td>69</td>\n",
       "      <td>Head</td>\n",
       "      <td>Married</td>\n",
       "      <td>Female</td>\n",
       "      <td>Unemployed</td>\n",
       "      <td>None</td>\n",
       "      <td>Methodist</td>\n",
       "    </tr>\n",
       "    <tr>\n",
       "      <th>3</th>\n",
       "      <td>2</td>\n",
       "      <td>Scott Dale</td>\n",
       "      <td>Lewis</td>\n",
       "      <td>Allen</td>\n",
       "      <td>72</td>\n",
       "      <td>Husband</td>\n",
       "      <td>Married</td>\n",
       "      <td>Male</td>\n",
       "      <td>Retired Associate Professor</td>\n",
       "      <td>None</td>\n",
       "      <td>Methodist</td>\n",
       "    </tr>\n",
       "    <tr>\n",
       "      <th>4</th>\n",
       "      <td>3</td>\n",
       "      <td>Scott Dale</td>\n",
       "      <td>Molly</td>\n",
       "      <td>Patel</td>\n",
       "      <td>36</td>\n",
       "      <td>Head</td>\n",
       "      <td>Married</td>\n",
       "      <td>Female</td>\n",
       "      <td>Engineer, land</td>\n",
       "      <td>None</td>\n",
       "      <td>None</td>\n",
       "    </tr>\n",
       "    <tr>\n",
       "      <th>...</th>\n",
       "      <td>...</td>\n",
       "      <td>...</td>\n",
       "      <td>...</td>\n",
       "      <td>...</td>\n",
       "      <td>...</td>\n",
       "      <td>...</td>\n",
       "      <td>...</td>\n",
       "      <td>...</td>\n",
       "      <td>...</td>\n",
       "      <td>...</td>\n",
       "      <td>...</td>\n",
       "    </tr>\n",
       "    <tr>\n",
       "      <th>8324</th>\n",
       "      <td>1</td>\n",
       "      <td>Walker Palace</td>\n",
       "      <td>Adrian</td>\n",
       "      <td>Mason</td>\n",
       "      <td>56</td>\n",
       "      <td>Lodger</td>\n",
       "      <td>Single</td>\n",
       "      <td>Male</td>\n",
       "      <td>Unemployed</td>\n",
       "      <td>None</td>\n",
       "      <td>Muslim</td>\n",
       "    </tr>\n",
       "    <tr>\n",
       "      <th>8325</th>\n",
       "      <td>1</td>\n",
       "      <td>Poole Stronghold</td>\n",
       "      <td>Beth</td>\n",
       "      <td>Evans</td>\n",
       "      <td>43</td>\n",
       "      <td>Head</td>\n",
       "      <td>Married</td>\n",
       "      <td>Female</td>\n",
       "      <td>Buyer, retail</td>\n",
       "      <td>None</td>\n",
       "      <td>Christian</td>\n",
       "    </tr>\n",
       "    <tr>\n",
       "      <th>8326</th>\n",
       "      <td>1</td>\n",
       "      <td>Poole Stronghold</td>\n",
       "      <td>Trevor</td>\n",
       "      <td>Evans</td>\n",
       "      <td>43</td>\n",
       "      <td>Husband</td>\n",
       "      <td>Married</td>\n",
       "      <td>Male</td>\n",
       "      <td>Patent examiner</td>\n",
       "      <td>None</td>\n",
       "      <td>Christian</td>\n",
       "    </tr>\n",
       "    <tr>\n",
       "      <th>8327</th>\n",
       "      <td>1</td>\n",
       "      <td>Poole Stronghold</td>\n",
       "      <td>Pamela</td>\n",
       "      <td>Evans</td>\n",
       "      <td>0</td>\n",
       "      <td>Daughter</td>\n",
       "      <td>NaN</td>\n",
       "      <td>Female</td>\n",
       "      <td>Child</td>\n",
       "      <td>None</td>\n",
       "      <td>NaN</td>\n",
       "    </tr>\n",
       "    <tr>\n",
       "      <th>8328</th>\n",
       "      <td>1</td>\n",
       "      <td>Poole Stronghold</td>\n",
       "      <td>Carol</td>\n",
       "      <td>Thomas</td>\n",
       "      <td>24</td>\n",
       "      <td>Sibling</td>\n",
       "      <td>Single</td>\n",
       "      <td>Female</td>\n",
       "      <td>Administrator, charities/voluntary organisations</td>\n",
       "      <td>None</td>\n",
       "      <td>Christian</td>\n",
       "    </tr>\n",
       "  </tbody>\n",
       "</table>\n",
       "<p>8329 rows × 11 columns</p>\n",
       "</div>"
      ],
      "text/plain": [
       "      House Number            Street First Name Surname Age  \\\n",
       "0                1        Scott Dale    Maureen     Cox  50   \n",
       "1                1        Scott Dale       Rhys   Brown  52   \n",
       "2                2        Scott Dale   Lorraine   Allen  69   \n",
       "3                2        Scott Dale      Lewis   Allen  72   \n",
       "4                3        Scott Dale      Molly   Patel  36   \n",
       "...            ...               ...        ...     ...  ..   \n",
       "8324             1     Walker Palace     Adrian   Mason  56   \n",
       "8325             1  Poole Stronghold       Beth   Evans  43   \n",
       "8326             1  Poole Stronghold     Trevor   Evans  43   \n",
       "8327             1  Poole Stronghold     Pamela   Evans   0   \n",
       "8328             1  Poole Stronghold      Carol  Thomas  24   \n",
       "\n",
       "     Relationship to Head of House Marital Status  Gender  \\\n",
       "0                             Head         Single  Female   \n",
       "1                          Partner         Single    Male   \n",
       "2                             Head        Married  Female   \n",
       "3                          Husband        Married    Male   \n",
       "4                             Head        Married  Female   \n",
       "...                            ...            ...     ...   \n",
       "8324                        Lodger         Single    Male   \n",
       "8325                          Head        Married  Female   \n",
       "8326                       Husband        Married    Male   \n",
       "8327                      Daughter            NaN  Female   \n",
       "8328                       Sibling         Single  Female   \n",
       "\n",
       "                                            Occupation Infirmity   Religion  \n",
       "0                          Engineer, building services      None   Catholic  \n",
       "1                                     Engineer, mining      None   Catholic  \n",
       "2                                           Unemployed      None  Methodist  \n",
       "3                          Retired Associate Professor      None  Methodist  \n",
       "4                                       Engineer, land      None       None  \n",
       "...                                                ...       ...        ...  \n",
       "8324                                        Unemployed      None     Muslim  \n",
       "8325                                     Buyer, retail      None  Christian  \n",
       "8326                                   Patent examiner      None  Christian  \n",
       "8327                                             Child      None        NaN  \n",
       "8328  Administrator, charities/voluntary organisations      None  Christian  \n",
       "\n",
       "[8329 rows x 11 columns]"
      ]
     },
     "execution_count": 3,
     "metadata": {},
     "output_type": "execute_result"
    }
   ],
   "source": [
    "census_data"
   ]
  },
  {
   "cell_type": "markdown",
   "id": "42b0caed",
   "metadata": {},
   "source": [
    "Check for a summary of the dataset"
   ]
  },
  {
   "cell_type": "code",
   "execution_count": 4,
   "id": "5b026e20",
   "metadata": {},
   "outputs": [
    {
     "name": "stdout",
     "output_type": "stream",
     "text": [
      "<class 'pandas.core.frame.DataFrame'>\n",
      "RangeIndex: 8329 entries, 0 to 8328\n",
      "Data columns (total 11 columns):\n",
      " #   Column                         Non-Null Count  Dtype \n",
      "---  ------                         --------------  ----- \n",
      " 0   House Number                   8329 non-null   int64 \n",
      " 1   Street                         8329 non-null   object\n",
      " 2   First Name                     8329 non-null   object\n",
      " 3   Surname                        8329 non-null   object\n",
      " 4   Age                            8329 non-null   object\n",
      " 5   Relationship to Head of House  8329 non-null   object\n",
      " 6   Marital Status                 6273 non-null   object\n",
      " 7   Gender                         8329 non-null   object\n",
      " 8   Occupation                     8329 non-null   object\n",
      " 9   Infirmity                      8329 non-null   object\n",
      " 10  Religion                       6224 non-null   object\n",
      "dtypes: int64(1), object(10)\n",
      "memory usage: 715.9+ KB\n"
     ]
    }
   ],
   "source": [
    "census_data.info()"
   ]
  },
  {
   "cell_type": "code",
   "execution_count": 5,
   "id": "43166d52",
   "metadata": {},
   "outputs": [
    {
     "data": {
      "text/plain": [
       "[Text(0.5, 1.0, 'Census Data Heat Plot')]"
      ]
     },
     "execution_count": 5,
     "metadata": {},
     "output_type": "execute_result"
    },
    {
     "data": {
      "image/png": "[encoded data removed]",
      "text/plain": [
       "<Figure size 576x288 with 2 Axes>"
      ]
     },
     "metadata": {
      "needs_background": "light"
     },
     "output_type": "display_data"
    }
   ],
   "source": [
    "# Plot a graph to show existing null values\n",
    "\n",
    "plt.figure(figsize = (8,4))\n",
    "sns.heatmap(census_data.isnull(),cmap='Reds').set(title=\"Census Data Heat Plot\")"
   ]
  },
  {
   "cell_type": "markdown",
   "id": "52fe7940",
   "metadata": {},
   "source": [
    "Check for ' ' enntries for each column in the data set"
   ]
  },
  {
   "cell_type": "code",
   "execution_count": 6,
   "id": "c9f4ea33",
   "metadata": {},
   "outputs": [
    {
     "name": "stdout",
     "output_type": "stream",
     "text": [
      "First Name\n",
      "Surname\n",
      "Age\n",
      "Marital Status\n",
      "Infirmity\n",
      "Religion\n",
      "\n",
      "The following Columns above have blank(' ') entries\n"
     ]
    }
   ],
   "source": [
    "# Check for blank entries in the data set\n",
    "\n",
    "for column in census_data:\n",
    "    if (census_data[column] == ' ').any() == True:\n",
    "        print (column)\n",
    "print(\"\")\n",
    "print(\"The following Columns above have blank(' ') entries\")"
   ]
  },
  {
   "cell_type": "markdown",
   "id": "71c828d2",
   "metadata": {},
   "source": [
    "<b> Preliminary Analysis shows the following issues exist witht the dataset: <b>\n",
    "\n",
    "1. Marital Status Column has about 2056 missing values\n",
    "2. Religion column has about 2105 missing values\n",
    "3. Age column has a wrong data type\n",
    "4. The age has some data points as float, str and int, all should be int\n",
    "5. The following columns have blank entries: First Name, Surname, Age, Marital Status, Infirmity, Religion.\n",
    "    "
   ]
  },
  {
   "cell_type": "markdown",
   "id": "e26eaf84",
   "metadata": {},
   "source": [
    " "
   ]
  },
  {
   "cell_type": "markdown",
   "id": "a8cb12aa",
   "metadata": {},
   "source": [
    "## C - Cleaning my imported datasets based on the issues summarised above"
   ]
  },
  {
   "cell_type": "markdown",
   "id": "b4136a0c",
   "metadata": {},
   "source": [
    "Cleaning the Age Column (datatype and blank columns)"
   ]
  },
  {
   "cell_type": "code",
   "execution_count": 7,
   "id": "e77b6209",
   "metadata": {},
   "outputs": [
    {
     "data": {
      "text/html": [
       "<div>\n",
       "<style scoped>\n",
       "    .dataframe tbody tr th:only-of-type {\n",
       "        vertical-align: middle;\n",
       "    }\n",
       "\n",
       "    .dataframe tbody tr th {\n",
       "        vertical-align: top;\n",
       "    }\n",
       "\n",
       "    .dataframe thead th {\n",
       "        text-align: right;\n",
       "    }\n",
       "</style>\n",
       "<table border=\"1\" class=\"dataframe\">\n",
       "  <thead>\n",
       "    <tr style=\"text-align: right;\">\n",
       "      <th></th>\n",
       "      <th>House Number</th>\n",
       "      <th>Street</th>\n",
       "      <th>First Name</th>\n",
       "      <th>Surname</th>\n",
       "      <th>Age</th>\n",
       "      <th>Relationship to Head of House</th>\n",
       "      <th>Marital Status</th>\n",
       "      <th>Gender</th>\n",
       "      <th>Occupation</th>\n",
       "      <th>Infirmity</th>\n",
       "      <th>Religion</th>\n",
       "    </tr>\n",
       "  </thead>\n",
       "  <tbody>\n",
       "    <tr>\n",
       "      <th>2206</th>\n",
       "      <td>17</td>\n",
       "      <td>Andrews Mill</td>\n",
       "      <td>Christopher</td>\n",
       "      <td>Johnson</td>\n",
       "      <td></td>\n",
       "      <td>Husband</td>\n",
       "      <td>Married</td>\n",
       "      <td>Male</td>\n",
       "      <td>Wellsite geologist</td>\n",
       "      <td>None</td>\n",
       "      <td>None</td>\n",
       "    </tr>\n",
       "    <tr>\n",
       "      <th>4317</th>\n",
       "      <td>47</td>\n",
       "      <td>Smith Plains</td>\n",
       "      <td>Hugh</td>\n",
       "      <td>Richards</td>\n",
       "      <td></td>\n",
       "      <td>Son</td>\n",
       "      <td>Single</td>\n",
       "      <td>Male</td>\n",
       "      <td>University Student</td>\n",
       "      <td>None</td>\n",
       "      <td>Christian</td>\n",
       "    </tr>\n",
       "  </tbody>\n",
       "</table>\n",
       "</div>"
      ],
      "text/plain": [
       "      House Number        Street   First Name   Surname Age  \\\n",
       "2206            17  Andrews Mill  Christopher   Johnson       \n",
       "4317            47  Smith Plains         Hugh  Richards       \n",
       "\n",
       "     Relationship to Head of House Marital Status Gender          Occupation  \\\n",
       "2206                       Husband        Married   Male  Wellsite geologist   \n",
       "4317                           Son         Single   Male  University Student   \n",
       "\n",
       "     Infirmity   Religion  \n",
       "2206      None       None  \n",
       "4317      None  Christian  "
      ]
     },
     "execution_count": 7,
     "metadata": {},
     "output_type": "execute_result"
    }
   ],
   "source": [
    "#inspecting the blank values in the Age column\n",
    "\n",
    "census_data.loc[census_data['Age'] == ' ']"
   ]
  },
  {
   "cell_type": "code",
   "execution_count": 8,
   "id": "1d1e7113",
   "metadata": {},
   "outputs": [],
   "source": [
    "\"\"\"\n",
    "Fill in the blank column\n",
    "\n",
    "Query all the rows that with similar properties and find the average age. \n",
    "This means other husbands with no infirmity, with no religion, with ages. \n",
    "\n",
    "\"\"\"\n",
    "similar_husband_data = census_data.loc[(census_data['Relationship to Head of House'] == 'Husband') & \n",
    "                                       (census_data['Religion'] == 'None') &\n",
    "                                       (census_data['Infirmity'] == 'None') &\n",
    "                                       (census_data['Age'] != ' ')]\n"
   ]
  },
  {
   "cell_type": "code",
   "execution_count": 9,
   "id": "9e6742b0",
   "metadata": {},
   "outputs": [
    {
     "name": "stdout",
     "output_type": "stream",
     "text": [
      "The average age of similar husbands is:  50\n"
     ]
    }
   ],
   "source": [
    "\"\"\"\n",
    "For the First Blank Cell\n",
    "Find their mean age of similar and fill the missing husband age\n",
    "\n",
    "\"\"\"\n",
    "\n",
    "conv_similar_husband_data = pd.to_numeric(similar_husband_data['Age'])\n",
    "missing_husband_age = conv_similar_husband_data.mean()\n",
    "print(\"The average age of similar husbands is: \", int(missing_husband_age))\n",
    "\n",
    "# Replace the missing age of the first row with the missing husband age\n",
    "census_data['Age'] = np.where((census_data['Age'] == ' ') & (census_data['Marital Status'] == 'Married'), 50, census_data['Age'])"
   ]
  },
  {
   "cell_type": "code",
   "execution_count": 10,
   "id": "85afce66",
   "metadata": {},
   "outputs": [
    {
     "name": "stdout",
     "output_type": "stream",
     "text": [
      "The average age of similar sons is:  20\n",
      "\n",
      "The two blank values for the Age column have now been filled \n"
     ]
    }
   ],
   "source": [
    "# Repeat the same method for the second blank entry (son)\n",
    "\n",
    "similar_son_data = census_data.loc[(census_data['Relationship to Head of House'] == 'Son') & \n",
    "                                       (census_data['Religion'] == 'None') &\n",
    "                                       (census_data['Infirmity'] == 'None') &\n",
    "                                       (census_data['Age'] != ' ') &\n",
    "                                       (census_data['Occupation'] == 'University Student')]\n",
    "\n",
    "missing_son_age = (pd.to_numeric(similar_son_data['Age'])).mean()\n",
    "\n",
    "print(\"The average age of similar sons is: \", int(missing_son_age))\n",
    "\n",
    "census_data['Age'] = np.where((census_data['Age'] == ' ') & (census_data['Marital Status'] == 'Single'), 20, census_data['Age'])\n",
    "\n",
    "print(\"\")\n",
    "\n",
    "print(\"The two blank values for the Age column have now been filled \")"
   ]
  },
  {
   "cell_type": "code",
   "execution_count": 11,
   "id": "befe6197",
   "metadata": {
    "scrolled": true
   },
   "outputs": [
    {
     "name": "stdout",
     "output_type": "stream",
     "text": [
      "The Age datatype has been converted to the right datatype\n"
     ]
    }
   ],
   "source": [
    "# Convert the Age column datatype to the right datatype\n",
    "\n",
    "census_data[\"Age\"] = census_data['Age'].astype(float).astype(int)\n",
    "\n",
    "print(\"The Age datatype has been converted to the right datatype\")"
   ]
  },
  {
   "cell_type": "code",
   "execution_count": 12,
   "id": "9e622337",
   "metadata": {},
   "outputs": [
    {
     "name": "stdout",
     "output_type": "stream",
     "text": [
      "The Age does not have any value greater that 106 and this is acceptable\n"
     ]
    },
    {
     "data": {
      "image/png": "[encoded data removed]",
      "text/plain": [
       "<Figure size 432x288 with 1 Axes>"
      ]
     },
     "metadata": {
      "needs_background": "light"
     },
     "output_type": "display_data"
    }
   ],
   "source": [
    "# Plot the Age column to investigate outliers \n",
    "\n",
    "sns.boxplot(x = census_data[\"Age\"]).set(title='Age Data Plot')\n",
    "\n",
    "print(\"The Age does not have any value greater that 106 and this is acceptable\")"
   ]
  },
  {
   "cell_type": "markdown",
   "id": "4ad9d4ed",
   "metadata": {},
   "source": [
    "Age Column has been cleaned. Clean Marital Status Column with 2056 missing values and blank entries"
   ]
  },
  {
   "cell_type": "code",
   "execution_count": 13,
   "id": "23aa7651",
   "metadata": {},
   "outputs": [
    {
     "data": {
      "text/plain": [
       "array(['Single', 'Married', 'Divorced', nan, 'Widowed', ' '], dtype=object)"
      ]
     },
     "execution_count": 13,
     "metadata": {},
     "output_type": "execute_result"
    }
   ],
   "source": [
    "# Check the unique entries of the column\n",
    "\n",
    "census_data['Marital Status'].unique()"
   ]
  },
  {
   "cell_type": "code",
   "execution_count": 14,
   "id": "1e5e6273",
   "metadata": {},
   "outputs": [
    {
     "name": "stdout",
     "output_type": "stream",
     "text": [
      "The Null Maritus Status entries have been corrected for individuals below 18\n"
     ]
    }
   ],
   "source": [
    "# Replace every marital status values with 'Single' for individuals below 18\n",
    "\n",
    "for i in range(len(census_data)):\n",
    "    if int(census_data[\"Age\"][i]) < 18:\n",
    "        census_data[\"Marital Status\"][i]  = \"Single\" \n",
    "\n",
    "print(\"The Null Maritus Status entries have been corrected for individuals below 18\")"
   ]
  },
  {
   "cell_type": "code",
   "execution_count": 15,
   "id": "06ed2c2c",
   "metadata": {},
   "outputs": [
    {
     "data": {
      "text/html": [
       "<div>\n",
       "<style scoped>\n",
       "    .dataframe tbody tr th:only-of-type {\n",
       "        vertical-align: middle;\n",
       "    }\n",
       "\n",
       "    .dataframe tbody tr th {\n",
       "        vertical-align: top;\n",
       "    }\n",
       "\n",
       "    .dataframe thead th {\n",
       "        text-align: right;\n",
       "    }\n",
       "</style>\n",
       "<table border=\"1\" class=\"dataframe\">\n",
       "  <thead>\n",
       "    <tr style=\"text-align: right;\">\n",
       "      <th></th>\n",
       "      <th>House Number</th>\n",
       "      <th>Street</th>\n",
       "      <th>First Name</th>\n",
       "      <th>Surname</th>\n",
       "      <th>Age</th>\n",
       "      <th>Relationship to Head of House</th>\n",
       "      <th>Marital Status</th>\n",
       "      <th>Gender</th>\n",
       "      <th>Occupation</th>\n",
       "      <th>Infirmity</th>\n",
       "      <th>Religion</th>\n",
       "    </tr>\n",
       "  </thead>\n",
       "  <tbody>\n",
       "    <tr>\n",
       "      <th>4328</th>\n",
       "      <td>53</td>\n",
       "      <td>Smith Plains</td>\n",
       "      <td>Lynn</td>\n",
       "      <td>Hilton</td>\n",
       "      <td>52</td>\n",
       "      <td>Head</td>\n",
       "      <td></td>\n",
       "      <td>Female</td>\n",
       "      <td>Hospital doctor</td>\n",
       "      <td>None</td>\n",
       "      <td>Christian</td>\n",
       "    </tr>\n",
       "    <tr>\n",
       "      <th>7103</th>\n",
       "      <td>24</td>\n",
       "      <td>Ellis Mountain</td>\n",
       "      <td>Susan</td>\n",
       "      <td>Taylor</td>\n",
       "      <td>19</td>\n",
       "      <td>None</td>\n",
       "      <td></td>\n",
       "      <td>Female</td>\n",
       "      <td>University Student</td>\n",
       "      <td>None</td>\n",
       "      <td>Christian</td>\n",
       "    </tr>\n",
       "    <tr>\n",
       "      <th>7460</th>\n",
       "      <td>30</td>\n",
       "      <td>Freeman Trail</td>\n",
       "      <td>Adrian</td>\n",
       "      <td>King</td>\n",
       "      <td>20</td>\n",
       "      <td>None</td>\n",
       "      <td></td>\n",
       "      <td>Male</td>\n",
       "      <td>University Student</td>\n",
       "      <td>None</td>\n",
       "      <td>Christian</td>\n",
       "    </tr>\n",
       "  </tbody>\n",
       "</table>\n",
       "</div>"
      ],
      "text/plain": [
       "      House Number          Street First Name Surname  Age  \\\n",
       "4328            53    Smith Plains       Lynn  Hilton   52   \n",
       "7103            24  Ellis Mountain      Susan  Taylor   19   \n",
       "7460            30   Freeman Trail     Adrian    King   20   \n",
       "\n",
       "     Relationship to Head of House Marital Status  Gender          Occupation  \\\n",
       "4328                          Head                 Female     Hospital doctor   \n",
       "7103                          None                 Female  University Student   \n",
       "7460                          None                   Male  University Student   \n",
       "\n",
       "     Infirmity   Religion  \n",
       "4328      None  Christian  \n",
       "7103      None  Christian  \n",
       "7460      None  Christian  "
      ]
     },
     "execution_count": 15,
     "metadata": {},
     "output_type": "execute_result"
    }
   ],
   "source": [
    "# Investigating Blank Entries\n",
    "\n",
    "census_data[(census_data['Marital Status'] ==' ')]"
   ]
  },
  {
   "cell_type": "code",
   "execution_count": 16,
   "id": "61602179",
   "metadata": {},
   "outputs": [
    {
     "data": {
      "text/html": [
       "<div>\n",
       "<style scoped>\n",
       "    .dataframe tbody tr th:only-of-type {\n",
       "        vertical-align: middle;\n",
       "    }\n",
       "\n",
       "    .dataframe tbody tr th {\n",
       "        vertical-align: top;\n",
       "    }\n",
       "\n",
       "    .dataframe thead th {\n",
       "        text-align: right;\n",
       "    }\n",
       "</style>\n",
       "<table border=\"1\" class=\"dataframe\">\n",
       "  <thead>\n",
       "    <tr style=\"text-align: right;\">\n",
       "      <th></th>\n",
       "      <th>House Number</th>\n",
       "      <th>Street</th>\n",
       "      <th>First Name</th>\n",
       "      <th>Surname</th>\n",
       "      <th>Age</th>\n",
       "      <th>Relationship to Head of House</th>\n",
       "      <th>Marital Status</th>\n",
       "      <th>Gender</th>\n",
       "      <th>Occupation</th>\n",
       "      <th>Infirmity</th>\n",
       "      <th>Religion</th>\n",
       "    </tr>\n",
       "  </thead>\n",
       "  <tbody>\n",
       "    <tr>\n",
       "      <th>3515</th>\n",
       "      <td>8</td>\n",
       "      <td>Elvis Via</td>\n",
       "      <td>Mark</td>\n",
       "      <td>Hilton</td>\n",
       "      <td>21</td>\n",
       "      <td>Visitor</td>\n",
       "      <td>Single</td>\n",
       "      <td>Male</td>\n",
       "      <td>University Student</td>\n",
       "      <td>None</td>\n",
       "      <td>None</td>\n",
       "    </tr>\n",
       "    <tr>\n",
       "      <th>4145</th>\n",
       "      <td>14</td>\n",
       "      <td>Johnson Fort</td>\n",
       "      <td>Yvonne</td>\n",
       "      <td>Hilton</td>\n",
       "      <td>60</td>\n",
       "      <td>Head</td>\n",
       "      <td>Married</td>\n",
       "      <td>Female</td>\n",
       "      <td>Outdoor activities/education manager</td>\n",
       "      <td>None</td>\n",
       "      <td>Catholic</td>\n",
       "    </tr>\n",
       "    <tr>\n",
       "      <th>4328</th>\n",
       "      <td>53</td>\n",
       "      <td>Smith Plains</td>\n",
       "      <td>Lynn</td>\n",
       "      <td>Hilton</td>\n",
       "      <td>52</td>\n",
       "      <td>Head</td>\n",
       "      <td></td>\n",
       "      <td>Female</td>\n",
       "      <td>Hospital doctor</td>\n",
       "      <td>None</td>\n",
       "      <td>Christian</td>\n",
       "    </tr>\n",
       "    <tr>\n",
       "      <th>4329</th>\n",
       "      <td>53</td>\n",
       "      <td>Smith Plains</td>\n",
       "      <td>Adrian</td>\n",
       "      <td>Hilton</td>\n",
       "      <td>53</td>\n",
       "      <td>Husband</td>\n",
       "      <td>Married</td>\n",
       "      <td>Male</td>\n",
       "      <td>Accountant, chartered management</td>\n",
       "      <td>None</td>\n",
       "      <td>None</td>\n",
       "    </tr>\n",
       "    <tr>\n",
       "      <th>4330</th>\n",
       "      <td>53</td>\n",
       "      <td>Smith Plains</td>\n",
       "      <td>Laura</td>\n",
       "      <td>Hilton</td>\n",
       "      <td>27</td>\n",
       "      <td>Daughter</td>\n",
       "      <td>Single</td>\n",
       "      <td>Female</td>\n",
       "      <td>Facilities manager</td>\n",
       "      <td>None</td>\n",
       "      <td>Christian</td>\n",
       "    </tr>\n",
       "    <tr>\n",
       "      <th>4331</th>\n",
       "      <td>53</td>\n",
       "      <td>Smith Plains</td>\n",
       "      <td>Richard</td>\n",
       "      <td>Hilton</td>\n",
       "      <td>27</td>\n",
       "      <td>Son</td>\n",
       "      <td>Single</td>\n",
       "      <td>Male</td>\n",
       "      <td>Barrister's clerk</td>\n",
       "      <td>None</td>\n",
       "      <td>Christian</td>\n",
       "    </tr>\n",
       "    <tr>\n",
       "      <th>4332</th>\n",
       "      <td>53</td>\n",
       "      <td>Smith Plains</td>\n",
       "      <td>Jean</td>\n",
       "      <td>Hilton</td>\n",
       "      <td>16</td>\n",
       "      <td>Daughter</td>\n",
       "      <td>Single</td>\n",
       "      <td>Female</td>\n",
       "      <td>Student</td>\n",
       "      <td>None</td>\n",
       "      <td>NaN</td>\n",
       "    </tr>\n",
       "  </tbody>\n",
       "</table>\n",
       "</div>"
      ],
      "text/plain": [
       "      House Number        Street First Name Surname  Age  \\\n",
       "3515             8     Elvis Via       Mark  Hilton   21   \n",
       "4145            14  Johnson Fort     Yvonne  Hilton   60   \n",
       "4328            53  Smith Plains       Lynn  Hilton   52   \n",
       "4329            53  Smith Plains     Adrian  Hilton   53   \n",
       "4330            53  Smith Plains      Laura  Hilton   27   \n",
       "4331            53  Smith Plains    Richard  Hilton   27   \n",
       "4332            53  Smith Plains       Jean  Hilton   16   \n",
       "\n",
       "     Relationship to Head of House Marital Status  Gender  \\\n",
       "3515                       Visitor         Single    Male   \n",
       "4145                          Head        Married  Female   \n",
       "4328                          Head                 Female   \n",
       "4329                       Husband        Married    Male   \n",
       "4330                      Daughter         Single  Female   \n",
       "4331                           Son         Single    Male   \n",
       "4332                      Daughter         Single  Female   \n",
       "\n",
       "                                Occupation Infirmity   Religion  \n",
       "3515                    University Student      None       None  \n",
       "4145  Outdoor activities/education manager      None   Catholic  \n",
       "4328                       Hospital doctor      None  Christian  \n",
       "4329      Accountant, chartered management      None       None  \n",
       "4330                    Facilities manager      None  Christian  \n",
       "4331                     Barrister's clerk      None  Christian  \n",
       "4332                               Student      None        NaN  "
      ]
     },
     "execution_count": 16,
     "metadata": {},
     "output_type": "execute_result"
    }
   ],
   "source": [
    "# Hilton is married from the table shown below\n",
    "census_data[(census_data['Surname'] =='Hilton')]"
   ]
  },
  {
   "cell_type": "code",
   "execution_count": 17,
   "id": "6bbe823b",
   "metadata": {},
   "outputs": [],
   "source": [
    "# fix the first blank cell\n",
    "\n",
    "census_data[\"Marital Status\"][4328]  = \"Married\" "
   ]
  },
  {
   "cell_type": "code",
   "execution_count": 18,
   "id": "298dd742",
   "metadata": {},
   "outputs": [
    {
     "data": {
      "text/html": [
       "<div>\n",
       "<style scoped>\n",
       "    .dataframe tbody tr th:only-of-type {\n",
       "        vertical-align: middle;\n",
       "    }\n",
       "\n",
       "    .dataframe tbody tr th {\n",
       "        vertical-align: top;\n",
       "    }\n",
       "\n",
       "    .dataframe thead th {\n",
       "        text-align: right;\n",
       "    }\n",
       "</style>\n",
       "<table border=\"1\" class=\"dataframe\">\n",
       "  <thead>\n",
       "    <tr style=\"text-align: right;\">\n",
       "      <th></th>\n",
       "      <th>House Number</th>\n",
       "      <th>Street</th>\n",
       "      <th>First Name</th>\n",
       "      <th>Surname</th>\n",
       "      <th>Age</th>\n",
       "      <th>Relationship to Head of House</th>\n",
       "      <th>Marital Status</th>\n",
       "      <th>Gender</th>\n",
       "      <th>Occupation</th>\n",
       "      <th>Infirmity</th>\n",
       "      <th>Religion</th>\n",
       "    </tr>\n",
       "  </thead>\n",
       "  <tbody>\n",
       "    <tr>\n",
       "      <th>2790</th>\n",
       "      <td>24</td>\n",
       "      <td>Dale Road</td>\n",
       "      <td>Wayne</td>\n",
       "      <td>Taylor</td>\n",
       "      <td>14</td>\n",
       "      <td>Son</td>\n",
       "      <td>Single</td>\n",
       "      <td>Male</td>\n",
       "      <td>Student</td>\n",
       "      <td>None</td>\n",
       "      <td>NaN</td>\n",
       "    </tr>\n",
       "    <tr>\n",
       "      <th>4089</th>\n",
       "      <td>24</td>\n",
       "      <td>Elizabeth Springs</td>\n",
       "      <td>Charlene</td>\n",
       "      <td>Taylor</td>\n",
       "      <td>45</td>\n",
       "      <td>Head</td>\n",
       "      <td>Single</td>\n",
       "      <td>Female</td>\n",
       "      <td>Land/geomatics surveyor</td>\n",
       "      <td>None</td>\n",
       "      <td>Catholic</td>\n",
       "    </tr>\n",
       "    <tr>\n",
       "      <th>4090</th>\n",
       "      <td>24</td>\n",
       "      <td>Elizabeth Springs</td>\n",
       "      <td>Gregory</td>\n",
       "      <td>Taylor</td>\n",
       "      <td>25</td>\n",
       "      <td>Son</td>\n",
       "      <td>Single</td>\n",
       "      <td>Male</td>\n",
       "      <td>Librarian, public</td>\n",
       "      <td>None</td>\n",
       "      <td>None</td>\n",
       "    </tr>\n",
       "    <tr>\n",
       "      <th>7103</th>\n",
       "      <td>24</td>\n",
       "      <td>Ellis Mountain</td>\n",
       "      <td>Susan</td>\n",
       "      <td>Taylor</td>\n",
       "      <td>19</td>\n",
       "      <td>None</td>\n",
       "      <td></td>\n",
       "      <td>Female</td>\n",
       "      <td>University Student</td>\n",
       "      <td>None</td>\n",
       "      <td>Christian</td>\n",
       "    </tr>\n",
       "  </tbody>\n",
       "</table>\n",
       "</div>"
      ],
      "text/plain": [
       "      House Number             Street First Name Surname  Age  \\\n",
       "2790            24          Dale Road      Wayne  Taylor   14   \n",
       "4089            24  Elizabeth Springs   Charlene  Taylor   45   \n",
       "4090            24  Elizabeth Springs    Gregory  Taylor   25   \n",
       "7103            24     Ellis Mountain      Susan  Taylor   19   \n",
       "\n",
       "     Relationship to Head of House Marital Status  Gender  \\\n",
       "2790                           Son         Single    Male   \n",
       "4089                          Head         Single  Female   \n",
       "4090                           Son         Single    Male   \n",
       "7103                          None                 Female   \n",
       "\n",
       "                   Occupation Infirmity   Religion  \n",
       "2790                  Student      None        NaN  \n",
       "4089  Land/geomatics surveyor      None   Catholic  \n",
       "4090        Librarian, public      None       None  \n",
       "7103       University Student      None  Christian  "
      ]
     },
     "execution_count": 18,
     "metadata": {},
     "output_type": "execute_result"
    }
   ],
   "source": [
    "# investigate the second blank entry\n",
    "\n",
    "census_data[(census_data['Surname'] =='Taylor')& (census_data['House Number'] ==24) ]"
   ]
  },
  {
   "cell_type": "code",
   "execution_count": 19,
   "id": "60311ba3",
   "metadata": {},
   "outputs": [],
   "source": [
    "# susan taylor is single considering she is in school and lives with her parents\n",
    "# Everybody in that house is single\n",
    "\n",
    "census_data[\"Marital Status\"][7103]  = \"Single\" "
   ]
  },
  {
   "cell_type": "code",
   "execution_count": 20,
   "id": "4f48ba04",
   "metadata": {},
   "outputs": [
    {
     "data": {
      "text/html": [
       "<div>\n",
       "<style scoped>\n",
       "    .dataframe tbody tr th:only-of-type {\n",
       "        vertical-align: middle;\n",
       "    }\n",
       "\n",
       "    .dataframe tbody tr th {\n",
       "        vertical-align: top;\n",
       "    }\n",
       "\n",
       "    .dataframe thead th {\n",
       "        text-align: right;\n",
       "    }\n",
       "</style>\n",
       "<table border=\"1\" class=\"dataframe\">\n",
       "  <thead>\n",
       "    <tr style=\"text-align: right;\">\n",
       "      <th></th>\n",
       "      <th>House Number</th>\n",
       "      <th>Street</th>\n",
       "      <th>First Name</th>\n",
       "      <th>Surname</th>\n",
       "      <th>Age</th>\n",
       "      <th>Relationship to Head of House</th>\n",
       "      <th>Marital Status</th>\n",
       "      <th>Gender</th>\n",
       "      <th>Occupation</th>\n",
       "      <th>Infirmity</th>\n",
       "      <th>Religion</th>\n",
       "    </tr>\n",
       "  </thead>\n",
       "  <tbody>\n",
       "    <tr>\n",
       "      <th>7458</th>\n",
       "      <td>30</td>\n",
       "      <td>Freeman Trail</td>\n",
       "      <td>Eleanor</td>\n",
       "      <td>Simpson</td>\n",
       "      <td>19</td>\n",
       "      <td>Head</td>\n",
       "      <td>Single</td>\n",
       "      <td>Female</td>\n",
       "      <td>University Student</td>\n",
       "      <td>None</td>\n",
       "      <td>None</td>\n",
       "    </tr>\n",
       "    <tr>\n",
       "      <th>7459</th>\n",
       "      <td>30</td>\n",
       "      <td>Freeman Trail</td>\n",
       "      <td>Thomas</td>\n",
       "      <td>Ball</td>\n",
       "      <td>22</td>\n",
       "      <td>None</td>\n",
       "      <td>Single</td>\n",
       "      <td>Male</td>\n",
       "      <td>University Student</td>\n",
       "      <td>None</td>\n",
       "      <td>Catholic</td>\n",
       "    </tr>\n",
       "    <tr>\n",
       "      <th>7460</th>\n",
       "      <td>30</td>\n",
       "      <td>Freeman Trail</td>\n",
       "      <td>Adrian</td>\n",
       "      <td>King</td>\n",
       "      <td>20</td>\n",
       "      <td>None</td>\n",
       "      <td></td>\n",
       "      <td>Male</td>\n",
       "      <td>University Student</td>\n",
       "      <td>None</td>\n",
       "      <td>Christian</td>\n",
       "    </tr>\n",
       "  </tbody>\n",
       "</table>\n",
       "</div>"
      ],
      "text/plain": [
       "      House Number         Street First Name  Surname  Age  \\\n",
       "7458            30  Freeman Trail    Eleanor  Simpson   19   \n",
       "7459            30  Freeman Trail     Thomas     Ball   22   \n",
       "7460            30  Freeman Trail     Adrian     King   20   \n",
       "\n",
       "     Relationship to Head of House Marital Status  Gender          Occupation  \\\n",
       "7458                          Head         Single  Female  University Student   \n",
       "7459                          None         Single    Male  University Student   \n",
       "7460                          None                   Male  University Student   \n",
       "\n",
       "     Infirmity   Religion  \n",
       "7458      None       None  \n",
       "7459      None   Catholic  \n",
       "7460      None  Christian  "
      ]
     },
     "execution_count": 20,
     "metadata": {},
     "output_type": "execute_result"
    }
   ],
   "source": [
    "#Investigate Adrian King\n",
    "\n",
    "census_data[(census_data['House Number'] ==30) & (census_data['Street'] == \"Freeman Trail\")]"
   ]
  },
  {
   "cell_type": "code",
   "execution_count": 21,
   "id": "3b2ec813",
   "metadata": {},
   "outputs": [],
   "source": [
    "# For Adrian, he stays in a university house with other students who are all single. He is likely single as well\n",
    "\n",
    "census_data[\"Marital Status\"][7460]  = \"Single\" "
   ]
  },
  {
   "cell_type": "markdown",
   "id": "e5c9acad",
   "metadata": {},
   "source": [
    "Investigate and clean the First Name Column"
   ]
  },
  {
   "cell_type": "code",
   "execution_count": 22,
   "id": "69afd80f",
   "metadata": {
    "scrolled": false
   },
   "outputs": [
    {
     "data": {
      "text/html": [
       "<div>\n",
       "<style scoped>\n",
       "    .dataframe tbody tr th:only-of-type {\n",
       "        vertical-align: middle;\n",
       "    }\n",
       "\n",
       "    .dataframe tbody tr th {\n",
       "        vertical-align: top;\n",
       "    }\n",
       "\n",
       "    .dataframe thead th {\n",
       "        text-align: right;\n",
       "    }\n",
       "</style>\n",
       "<table border=\"1\" class=\"dataframe\">\n",
       "  <thead>\n",
       "    <tr style=\"text-align: right;\">\n",
       "      <th></th>\n",
       "      <th>House Number</th>\n",
       "      <th>Street</th>\n",
       "      <th>First Name</th>\n",
       "      <th>Surname</th>\n",
       "      <th>Age</th>\n",
       "      <th>Relationship to Head of House</th>\n",
       "      <th>Marital Status</th>\n",
       "      <th>Gender</th>\n",
       "      <th>Occupation</th>\n",
       "      <th>Infirmity</th>\n",
       "      <th>Religion</th>\n",
       "    </tr>\n",
       "  </thead>\n",
       "  <tbody>\n",
       "    <tr>\n",
       "      <th>7258</th>\n",
       "      <td>10</td>\n",
       "      <td>Thomas Drive</td>\n",
       "      <td></td>\n",
       "      <td>Taylor</td>\n",
       "      <td>59</td>\n",
       "      <td>Head</td>\n",
       "      <td>Married</td>\n",
       "      <td>Male</td>\n",
       "      <td>Health and safety adviser</td>\n",
       "      <td>None</td>\n",
       "      <td>None</td>\n",
       "    </tr>\n",
       "  </tbody>\n",
       "</table>\n",
       "</div>"
      ],
      "text/plain": [
       "      House Number        Street First Name Surname  Age  \\\n",
       "7258            10  Thomas Drive             Taylor   59   \n",
       "\n",
       "     Relationship to Head of House Marital Status Gender  \\\n",
       "7258                          Head        Married   Male   \n",
       "\n",
       "                     Occupation Infirmity Religion  \n",
       "7258  Health and safety adviser      None     None  "
      ]
     },
     "execution_count": 22,
     "metadata": {},
     "output_type": "execute_result"
    }
   ],
   "source": [
    "census_data[census_data['First Name'] == ' ']"
   ]
  },
  {
   "cell_type": "code",
   "execution_count": 23,
   "id": "8238ab7f",
   "metadata": {},
   "outputs": [
    {
     "data": {
      "text/plain": [
       "0        Anne\n",
       "1    Geoffrey\n",
       "Name: First Name, dtype: object"
      ]
     },
     "execution_count": 23,
     "metadata": {},
     "output_type": "execute_result"
    }
   ],
   "source": [
    "census_data['First Name'].mode()"
   ]
  },
  {
   "cell_type": "code",
   "execution_count": 24,
   "id": "e3ec5a42",
   "metadata": {},
   "outputs": [
    {
     "name": "stdout",
     "output_type": "stream",
     "text": [
      " The First Name Column has been cleaned\n"
     ]
    }
   ],
   "source": [
    "\"\"\"\n",
    "This means that one cell is blank, \n",
    "I took the mode of the first names, I got 2 names. \n",
    "I chose the first one since the missing column was for a man and not a woman\n",
    "\"\"\"\n",
    "\n",
    "census_data['First Name'].iloc[7258] = 'Geoffrey'\n",
    "print(\" The First Name Column has been cleaned\")"
   ]
  },
  {
   "cell_type": "markdown",
   "id": "aa7243da",
   "metadata": {},
   "source": [
    "Investigate and clean the Surname Column"
   ]
  },
  {
   "cell_type": "code",
   "execution_count": 25,
   "id": "031480f4",
   "metadata": {},
   "outputs": [
    {
     "data": {
      "text/html": [
       "<div>\n",
       "<style scoped>\n",
       "    .dataframe tbody tr th:only-of-type {\n",
       "        vertical-align: middle;\n",
       "    }\n",
       "\n",
       "    .dataframe tbody tr th {\n",
       "        vertical-align: top;\n",
       "    }\n",
       "\n",
       "    .dataframe thead th {\n",
       "        text-align: right;\n",
       "    }\n",
       "</style>\n",
       "<table border=\"1\" class=\"dataframe\">\n",
       "  <thead>\n",
       "    <tr style=\"text-align: right;\">\n",
       "      <th></th>\n",
       "      <th>House Number</th>\n",
       "      <th>Street</th>\n",
       "      <th>First Name</th>\n",
       "      <th>Surname</th>\n",
       "      <th>Age</th>\n",
       "      <th>Relationship to Head of House</th>\n",
       "      <th>Marital Status</th>\n",
       "      <th>Gender</th>\n",
       "      <th>Occupation</th>\n",
       "      <th>Infirmity</th>\n",
       "      <th>Religion</th>\n",
       "    </tr>\n",
       "  </thead>\n",
       "  <tbody>\n",
       "    <tr>\n",
       "      <th>5553</th>\n",
       "      <td>5</td>\n",
       "      <td>Gill Mews</td>\n",
       "      <td>Owen</td>\n",
       "      <td></td>\n",
       "      <td>8</td>\n",
       "      <td>Son</td>\n",
       "      <td>Single</td>\n",
       "      <td>Male</td>\n",
       "      <td>Student</td>\n",
       "      <td>None</td>\n",
       "      <td>NaN</td>\n",
       "    </tr>\n",
       "  </tbody>\n",
       "</table>\n",
       "</div>"
      ],
      "text/plain": [
       "      House Number     Street First Name Surname  Age  \\\n",
       "5553             5  Gill Mews       Owen            8   \n",
       "\n",
       "     Relationship to Head of House Marital Status Gender Occupation Infirmity  \\\n",
       "5553                           Son         Single   Male    Student      None   \n",
       "\n",
       "     Religion  \n",
       "5553      NaN  "
      ]
     },
     "execution_count": 25,
     "metadata": {},
     "output_type": "execute_result"
    }
   ],
   "source": [
    "census_data[census_data['Surname'] ==' ']"
   ]
  },
  {
   "cell_type": "code",
   "execution_count": 26,
   "id": "9b5dabbd",
   "metadata": {},
   "outputs": [
    {
     "data": {
      "text/html": [
       "<div>\n",
       "<style scoped>\n",
       "    .dataframe tbody tr th:only-of-type {\n",
       "        vertical-align: middle;\n",
       "    }\n",
       "\n",
       "    .dataframe tbody tr th {\n",
       "        vertical-align: top;\n",
       "    }\n",
       "\n",
       "    .dataframe thead th {\n",
       "        text-align: right;\n",
       "    }\n",
       "</style>\n",
       "<table border=\"1\" class=\"dataframe\">\n",
       "  <thead>\n",
       "    <tr style=\"text-align: right;\">\n",
       "      <th></th>\n",
       "      <th>House Number</th>\n",
       "      <th>Street</th>\n",
       "      <th>First Name</th>\n",
       "      <th>Surname</th>\n",
       "      <th>Age</th>\n",
       "      <th>Relationship to Head of House</th>\n",
       "      <th>Marital Status</th>\n",
       "      <th>Gender</th>\n",
       "      <th>Occupation</th>\n",
       "      <th>Infirmity</th>\n",
       "      <th>Religion</th>\n",
       "    </tr>\n",
       "  </thead>\n",
       "  <tbody>\n",
       "    <tr>\n",
       "      <th>5552</th>\n",
       "      <td>5</td>\n",
       "      <td>Gill Mews</td>\n",
       "      <td>Joyce</td>\n",
       "      <td>Adams</td>\n",
       "      <td>32</td>\n",
       "      <td>Head</td>\n",
       "      <td>Divorced</td>\n",
       "      <td>Female</td>\n",
       "      <td>Unemployed</td>\n",
       "      <td>None</td>\n",
       "      <td>None</td>\n",
       "    </tr>\n",
       "    <tr>\n",
       "      <th>5553</th>\n",
       "      <td>5</td>\n",
       "      <td>Gill Mews</td>\n",
       "      <td>Owen</td>\n",
       "      <td></td>\n",
       "      <td>8</td>\n",
       "      <td>Son</td>\n",
       "      <td>Single</td>\n",
       "      <td>Male</td>\n",
       "      <td>Student</td>\n",
       "      <td>None</td>\n",
       "      <td>NaN</td>\n",
       "    </tr>\n",
       "    <tr>\n",
       "      <th>5554</th>\n",
       "      <td>5</td>\n",
       "      <td>Gill Mews</td>\n",
       "      <td>Aaron</td>\n",
       "      <td>Adams</td>\n",
       "      <td>7</td>\n",
       "      <td>Son</td>\n",
       "      <td>Single</td>\n",
       "      <td>Male</td>\n",
       "      <td>Student</td>\n",
       "      <td>None</td>\n",
       "      <td>NaN</td>\n",
       "    </tr>\n",
       "  </tbody>\n",
       "</table>\n",
       "</div>"
      ],
      "text/plain": [
       "      House Number     Street First Name Surname  Age  \\\n",
       "5552             5  Gill Mews      Joyce   Adams   32   \n",
       "5553             5  Gill Mews       Owen            8   \n",
       "5554             5  Gill Mews      Aaron   Adams    7   \n",
       "\n",
       "     Relationship to Head of House Marital Status  Gender  Occupation  \\\n",
       "5552                          Head       Divorced  Female  Unemployed   \n",
       "5553                           Son         Single    Male     Student   \n",
       "5554                           Son         Single    Male     Student   \n",
       "\n",
       "     Infirmity Religion  \n",
       "5552      None     None  \n",
       "5553      None      NaN  \n",
       "5554      None      NaN  "
      ]
     },
     "execution_count": 26,
     "metadata": {},
     "output_type": "execute_result"
    }
   ],
   "source": [
    "# Now find parents of this child and fill in the surname\n",
    "\n",
    "census_data[(census_data['Street'] =='Gill Mews') & (census_data['House Number'] ==5)]"
   ]
  },
  {
   "cell_type": "code",
   "execution_count": 27,
   "id": "a9224fce",
   "metadata": {},
   "outputs": [],
   "source": [
    "# Now we know the surname of that is Adams\n",
    "\n",
    "census_data['Surname'].iloc[5553] = 'Adams'"
   ]
  },
  {
   "cell_type": "markdown",
   "id": "c47bfbd1",
   "metadata": {},
   "source": [
    "Investigate and clean the Religion Column"
   ]
  },
  {
   "cell_type": "code",
   "execution_count": 28,
   "id": "7b2fbcc8",
   "metadata": {},
   "outputs": [
    {
     "data": {
      "text/plain": [
       "array(['Catholic', 'Methodist', 'None', nan, 'Christian', 'Sikh',\n",
       "       'Muslim', 'Jewish', 'Buddist', ' ', 'Quaker'], dtype=object)"
      ]
     },
     "execution_count": 28,
     "metadata": {},
     "output_type": "execute_result"
    }
   ],
   "source": [
    "# Look at the unique religion values:\n",
    "\n",
    "census_data[\"Religion\"].unique()"
   ]
  },
  {
   "cell_type": "markdown",
   "id": "a66e2ba2",
   "metadata": {},
   "source": [
    "All the religious entries are fine except for the null and blank entries"
   ]
  },
  {
   "cell_type": "code",
   "execution_count": 29,
   "id": "90c39523",
   "metadata": {},
   "outputs": [],
   "source": [
    "# Filling the null religion with 'unknown' for data set\n",
    "\n",
    "religion_mode = census_data[\"Religion\"].mode()\n",
    "census_data[\"Religion\"] = census_data[\"Religion\"].fillna(\"Unknown\")"
   ]
  },
  {
   "cell_type": "code",
   "execution_count": 30,
   "id": "7e595fee",
   "metadata": {},
   "outputs": [
    {
     "data": {
      "text/html": [
       "<div>\n",
       "<style scoped>\n",
       "    .dataframe tbody tr th:only-of-type {\n",
       "        vertical-align: middle;\n",
       "    }\n",
       "\n",
       "    .dataframe tbody tr th {\n",
       "        vertical-align: top;\n",
       "    }\n",
       "\n",
       "    .dataframe thead th {\n",
       "        text-align: right;\n",
       "    }\n",
       "</style>\n",
       "<table border=\"1\" class=\"dataframe\">\n",
       "  <thead>\n",
       "    <tr style=\"text-align: right;\">\n",
       "      <th></th>\n",
       "      <th>House Number</th>\n",
       "      <th>Street</th>\n",
       "      <th>First Name</th>\n",
       "      <th>Surname</th>\n",
       "      <th>Age</th>\n",
       "      <th>Relationship to Head of House</th>\n",
       "      <th>Marital Status</th>\n",
       "      <th>Gender</th>\n",
       "      <th>Occupation</th>\n",
       "      <th>Infirmity</th>\n",
       "      <th>Religion</th>\n",
       "    </tr>\n",
       "  </thead>\n",
       "  <tbody>\n",
       "    <tr>\n",
       "      <th>3054</th>\n",
       "      <td>23</td>\n",
       "      <td>Riley Avenue</td>\n",
       "      <td>Katherine</td>\n",
       "      <td>Scott</td>\n",
       "      <td>25</td>\n",
       "      <td>Head</td>\n",
       "      <td>Single</td>\n",
       "      <td>Female</td>\n",
       "      <td>Unemployed</td>\n",
       "      <td>None</td>\n",
       "      <td></td>\n",
       "    </tr>\n",
       "    <tr>\n",
       "      <th>6456</th>\n",
       "      <td>1</td>\n",
       "      <td>Gibbs Lane</td>\n",
       "      <td>Donna</td>\n",
       "      <td>Mitchell</td>\n",
       "      <td>85</td>\n",
       "      <td>Head</td>\n",
       "      <td>Divorced</td>\n",
       "      <td>Female</td>\n",
       "      <td>Retired Fast food restaurant manager</td>\n",
       "      <td>None</td>\n",
       "      <td></td>\n",
       "    </tr>\n",
       "    <tr>\n",
       "      <th>6824</th>\n",
       "      <td>53</td>\n",
       "      <td>July Isle</td>\n",
       "      <td>Leon</td>\n",
       "      <td>Marshall</td>\n",
       "      <td>23</td>\n",
       "      <td>None</td>\n",
       "      <td>Single</td>\n",
       "      <td>Male</td>\n",
       "      <td>Programmer, multimedia</td>\n",
       "      <td>None</td>\n",
       "      <td></td>\n",
       "    </tr>\n",
       "    <tr>\n",
       "      <th>7573</th>\n",
       "      <td>12</td>\n",
       "      <td>Blackhook Lane</td>\n",
       "      <td>Mohamed</td>\n",
       "      <td>Stephens</td>\n",
       "      <td>51</td>\n",
       "      <td>Husband</td>\n",
       "      <td>Married</td>\n",
       "      <td>Male</td>\n",
       "      <td>Programmer, multimedia</td>\n",
       "      <td>None</td>\n",
       "      <td></td>\n",
       "    </tr>\n",
       "  </tbody>\n",
       "</table>\n",
       "</div>"
      ],
      "text/plain": [
       "      House Number          Street First Name   Surname  Age  \\\n",
       "3054            23    Riley Avenue  Katherine     Scott   25   \n",
       "6456             1      Gibbs Lane      Donna  Mitchell   85   \n",
       "6824            53       July Isle       Leon  Marshall   23   \n",
       "7573            12  Blackhook Lane    Mohamed  Stephens   51   \n",
       "\n",
       "     Relationship to Head of House Marital Status  Gender  \\\n",
       "3054                          Head         Single  Female   \n",
       "6456                          Head       Divorced  Female   \n",
       "6824                          None         Single    Male   \n",
       "7573                       Husband        Married    Male   \n",
       "\n",
       "                                Occupation Infirmity Religion  \n",
       "3054                            Unemployed      None           \n",
       "6456  Retired Fast food restaurant manager      None           \n",
       "6824                Programmer, multimedia      None           \n",
       "7573                Programmer, multimedia      None           "
      ]
     },
     "execution_count": 30,
     "metadata": {},
     "output_type": "execute_result"
    }
   ],
   "source": [
    "census_data[(census_data[\"Religion\"] == ' ')]"
   ]
  },
  {
   "cell_type": "code",
   "execution_count": 31,
   "id": "7ddf7d4f",
   "metadata": {},
   "outputs": [],
   "source": [
    "# Fill the blank entries with the mode of the religion column:\n",
    "\n",
    "census_data[\"Religion\"].iloc[3054] = \"None\"\n",
    "census_data[\"Religion\"].iloc[6456] = \"None\"\n",
    "census_data[\"Religion\"].iloc[6824] = \"None\"\n",
    "census_data[\"Religion\"].iloc[7573] = \"None\"\n"
   ]
  },
  {
   "cell_type": "markdown",
   "id": "b4324d78",
   "metadata": {},
   "source": [
    "Investigate and clean the Infirmity Column"
   ]
  },
  {
   "cell_type": "code",
   "execution_count": 32,
   "id": "a7acd07d",
   "metadata": {},
   "outputs": [
    {
     "data": {
      "text/plain": [
       "array(['None', 'Physical Disability', 'Mental Disability',\n",
       "       'Unknown Infection', ' ', 'Disabled', 'Blind', 'Deaf'],\n",
       "      dtype=object)"
      ]
     },
     "execution_count": 32,
     "metadata": {},
     "output_type": "execute_result"
    }
   ],
   "source": [
    "census_data[\"Infirmity\"].unique()"
   ]
  },
  {
   "cell_type": "code",
   "execution_count": 33,
   "id": "050fd5bb",
   "metadata": {},
   "outputs": [],
   "source": [
    "# find the blank space:\n",
    "\n",
    "for i in range(len(census_data[\"Infirmity\"])):\n",
    "    if census_data[\"Infirmity\"][i] == ' ':\n",
    "        census_data[\"Infirmity\"][i]  = \"None\" "
   ]
  },
  {
   "cell_type": "markdown",
   "id": "fe9a96e7",
   "metadata": {},
   "source": [
    " "
   ]
  },
  {
   "cell_type": "markdown",
   "id": "632460e5",
   "metadata": {},
   "source": [
    "## D - Cleaning my imported datasets: Checking for lies in the Dataset"
   ]
  },
  {
   "cell_type": "markdown",
   "id": "f437babc",
   "metadata": {},
   "source": [
    "Check the Gender Column to investigate entries there. We should have only male and female as entries"
   ]
  },
  {
   "cell_type": "code",
   "execution_count": 34,
   "id": "3120eaf3",
   "metadata": {},
   "outputs": [
    {
     "name": "stdout",
     "output_type": "stream",
     "text": [
      "The only two entries in the gender column are:  ['Female' 'Male']\n"
     ]
    }
   ],
   "source": [
    "print(\"The only two entries in the gender column are: \", census_data[\"Gender\"].unique())\n"
   ]
  },
  {
   "cell_type": "markdown",
   "id": "b19ba1f1",
   "metadata": {},
   "source": [
    "Check the 'House Number' Column for obscure entries"
   ]
  },
  {
   "cell_type": "code",
   "execution_count": 35,
   "id": "967e8ef7",
   "metadata": {},
   "outputs": [
    {
     "data": {
      "text/plain": [
       "array([  1,   2,   3,   4,   5,   6,   7,   8,   9,  10,  11,  12,  13,\n",
       "        14,  15,  16,  17,  18,  19,  20,  21,  22,  23,  24,  25,  26,\n",
       "        27,  28,  29,  30,  31,  32,  33,  34,  35,  36,  37,  38,  39,\n",
       "        40,  41,  42,  43,  44,  45,  46,  47,  48,  49,  50,  51,  52,\n",
       "        53,  54,  55,  56,  57,  58,  59,  60,  61,  62,  63,  64,  65,\n",
       "        66,  67,  68,  69,  70,  71,  72,  73,  74,  75,  76,  77,  78,\n",
       "        79,  80,  81,  82,  83,  84,  85,  86,  87,  88,  89,  90,  91,\n",
       "        92,  93,  94,  95,  96,  97,  98,  99, 100, 101, 102, 103, 104,\n",
       "       105, 106, 107, 108, 109, 110, 111, 112, 113, 114, 115, 116, 117,\n",
       "       118, 119, 120, 121, 122, 123, 124, 125, 126, 127, 128, 129, 130,\n",
       "       131, 132, 133, 134, 135, 136, 137, 138, 139, 140, 141, 142, 143,\n",
       "       144, 145, 146, 147, 148, 149, 150, 151, 152, 153, 154, 155, 156,\n",
       "       157, 158, 159, 160, 161, 162, 163, 164, 165, 166, 167, 168, 169,\n",
       "       170, 171, 172, 173, 174, 175, 176, 177, 178, 179, 180, 181, 182,\n",
       "       183, 184, 185, 186, 187, 188, 189, 190, 191, 192, 193, 194, 195,\n",
       "       196, 197, 198, 199, 200, 201, 202, 203, 204, 205, 206, 207],\n",
       "      dtype=int64)"
      ]
     },
     "execution_count": 35,
     "metadata": {},
     "output_type": "execute_result"
    }
   ],
   "source": [
    "census_data[\"House Number\"].unique()"
   ]
  },
  {
   "cell_type": "markdown",
   "id": "49c8bbad",
   "metadata": {},
   "source": [
    "The 'House Number' Column looks okay.\n",
    "     \n",
    "Check the Street Column for obscure entries"
   ]
  },
  {
   "cell_type": "code",
   "execution_count": 36,
   "id": "23b28f22",
   "metadata": {},
   "outputs": [
    {
     "data": {
      "text/plain": [
       "array(['Scott Dale', 'Lee Shoal', 'Zebra Lodge', 'Holyrood Trace',\n",
       "       'Edwards Mountain', 'Gold Road', 'Mason Roads', 'Peninsula Drive',\n",
       "       'Leicesterbail Road', 'Hill Heights', 'Wessex Drive',\n",
       "       'Pinewood Hills', 'Sheppard Way', 'Cumberlandbin Crescent',\n",
       "       'Charity Road', 'Allen Mission', 'Wessex Crescent',\n",
       "       'Bathhouse Fords', 'Spencer Keys', 'Armaghspan Avenue',\n",
       "       'Landings Camp', 'Clearwater Street', 'Andrews Mill',\n",
       "       'Hall Island', 'Davies Plains', 'Elvis Extensions',\n",
       "       'Goldfinch Avenue', 'Edwards Drive', 'Castor Groves',\n",
       "       'Solstice Lane', 'Dale Road', 'Riley Avenue', 'Bronze Crescent',\n",
       "       'Elvis Via', 'Bishop Avenue', 'Portsmouth Street', 'Weston Inlet',\n",
       "       'Guardian Crescent', 'Bathhouse Street', 'Parrot Summit',\n",
       "       'Elizabeth Springs', 'Johnson Fort', 'Smith Plains', 'Rice Street',\n",
       "       'Smith Shoal', 'Toucan Divide', 'Taylor Avenue', 'Williams Road',\n",
       "       'Bronze Greens', 'Column Valley', 'Harrison Street', 'Khan Creek',\n",
       "       'Threpenny Crescent', 'Calendar Mountains', 'Scorpio Road',\n",
       "       'Gill Mews', 'Goldfinch Springs', 'Craig Lane',\n",
       "       'Eastsack Crescent', 'Smith Lane', 'Elliott Crescent',\n",
       "       'Kraken Avenue', 'Nottingham Roads', 'Railway Stream',\n",
       "       'Gibbs Lane', 'Solstice Crescent', 'St.Matthew Crescent',\n",
       "       'Marsden Union', 'Coin Skyway', 'Graham Avenue', 'July Isle',\n",
       "       'Bangorthorpe Avenue', 'Hayes Estate', 'Brightwater Highway',\n",
       "       'Taurus Plains', 'Naylor Crescent', 'Ellis Mountain',\n",
       "       'Doyle Drive', 'Thomas Drive', 'Freeman Trail', 'Blackhook Lane',\n",
       "       'Alba Crescent', 'Wallis Forest', 'Strathclyde Avenue',\n",
       "       'Telegraphrow Crescent', 'Bletchley Street', 'Minster Ridge',\n",
       "       'Horton Ville', 'Kestrel Flat', 'Lloyd Drive', 'Narwhal Rocks',\n",
       "       'Crawford Palace', 'Wood Keep', 'Griffin Obervatory',\n",
       "       'Wilson Stronghold', 'Wilson Castle', 'Sagittarius Cabin',\n",
       "       'Stephens Factory', 'White Granary', 'Dublin House',\n",
       "       'Ranger Obervatory', 'Faith Bastion', 'Jones Barracks',\n",
       "       'Walker Palace', 'Poole Stronghold'], dtype=object)"
      ]
     },
     "execution_count": 36,
     "metadata": {},
     "output_type": "execute_result"
    }
   ],
   "source": [
    "census_data[\"Street\"].unique()"
   ]
  },
  {
   "cell_type": "markdown",
   "id": "9a08a71e",
   "metadata": {},
   "source": [
    "The Street Column looks okay.\n",
    "   \n",
    "Check the Relation to Head of House Column for obscure entries"
   ]
  },
  {
   "cell_type": "code",
   "execution_count": 37,
   "id": "53d3a831",
   "metadata": {},
   "outputs": [
    {
     "data": {
      "text/plain": [
       "array(['Head', 'Partner', 'Husband', 'Son', 'None', 'Daughter', 'Wife',\n",
       "       'Grandson', 'Lodger', 'Visitor', 'Cousin', 'Step-Son', 'Sibling',\n",
       "       'Granddaughter', 'Step-Daughter', 'Adopted Son', 'Nephew',\n",
       "       'Adopted Daughter', 'Son-in-law', 'Neice', 'Daughter-in-law',\n",
       "       'Adopted Grandson', 'Adopted Granddaughter'], dtype=object)"
      ]
     },
     "execution_count": 37,
     "metadata": {},
     "output_type": "execute_result"
    }
   ],
   "source": [
    "census_data[\"Relationship to Head of House\"].unique()"
   ]
  },
  {
   "cell_type": "markdown",
   "id": "e8991f50",
   "metadata": {},
   "source": [
    "Replace 'Niece' with 'Neice' entries"
   ]
  },
  {
   "cell_type": "code",
   "execution_count": 38,
   "id": "acabc0be",
   "metadata": {},
   "outputs": [],
   "source": [
    "census_data[\"Relationship to Head of House\"].replace('Neice','Niece',inplace = True)"
   ]
  },
  {
   "cell_type": "markdown",
   "id": "4afbcc93",
   "metadata": {},
   "source": [
    "Check for any individual below 18 and are married or the head of the house"
   ]
  },
  {
   "cell_type": "code",
   "execution_count": 39,
   "id": "f7b1a2e6",
   "metadata": {},
   "outputs": [
    {
     "data": {
      "text/html": [
       "<div>\n",
       "<style scoped>\n",
       "    .dataframe tbody tr th:only-of-type {\n",
       "        vertical-align: middle;\n",
       "    }\n",
       "\n",
       "    .dataframe tbody tr th {\n",
       "        vertical-align: top;\n",
       "    }\n",
       "\n",
       "    .dataframe thead th {\n",
       "        text-align: right;\n",
       "    }\n",
       "</style>\n",
       "<table border=\"1\" class=\"dataframe\">\n",
       "  <thead>\n",
       "    <tr style=\"text-align: right;\">\n",
       "      <th></th>\n",
       "      <th>House Number</th>\n",
       "      <th>Street</th>\n",
       "      <th>First Name</th>\n",
       "      <th>Surname</th>\n",
       "      <th>Age</th>\n",
       "      <th>Relationship to Head of House</th>\n",
       "      <th>Marital Status</th>\n",
       "      <th>Gender</th>\n",
       "      <th>Occupation</th>\n",
       "      <th>Infirmity</th>\n",
       "      <th>Religion</th>\n",
       "    </tr>\n",
       "  </thead>\n",
       "  <tbody>\n",
       "  </tbody>\n",
       "</table>\n",
       "</div>"
      ],
      "text/plain": [
       "Empty DataFrame\n",
       "Columns: [House Number, Street, First Name, Surname, Age, Relationship to Head of House, Marital Status, Gender, Occupation, Infirmity, Religion]\n",
       "Index: []"
      ]
     },
     "execution_count": 39,
     "metadata": {},
     "output_type": "execute_result"
    }
   ],
   "source": [
    "census_data[(census_data['Age'] < 18) & (census_data['Marital Status'] != \"Single\")]"
   ]
  },
  {
   "cell_type": "code",
   "execution_count": 40,
   "id": "4082b22b",
   "metadata": {},
   "outputs": [
    {
     "data": {
      "text/html": [
       "<div>\n",
       "<style scoped>\n",
       "    .dataframe tbody tr th:only-of-type {\n",
       "        vertical-align: middle;\n",
       "    }\n",
       "\n",
       "    .dataframe tbody tr th {\n",
       "        vertical-align: top;\n",
       "    }\n",
       "\n",
       "    .dataframe thead th {\n",
       "        text-align: right;\n",
       "    }\n",
       "</style>\n",
       "<table border=\"1\" class=\"dataframe\">\n",
       "  <thead>\n",
       "    <tr style=\"text-align: right;\">\n",
       "      <th></th>\n",
       "      <th>House Number</th>\n",
       "      <th>Street</th>\n",
       "      <th>First Name</th>\n",
       "      <th>Surname</th>\n",
       "      <th>Age</th>\n",
       "      <th>Relationship to Head of House</th>\n",
       "      <th>Marital Status</th>\n",
       "      <th>Gender</th>\n",
       "      <th>Occupation</th>\n",
       "      <th>Infirmity</th>\n",
       "      <th>Religion</th>\n",
       "    </tr>\n",
       "  </thead>\n",
       "  <tbody>\n",
       "  </tbody>\n",
       "</table>\n",
       "</div>"
      ],
      "text/plain": [
       "Empty DataFrame\n",
       "Columns: [House Number, Street, First Name, Surname, Age, Relationship to Head of House, Marital Status, Gender, Occupation, Infirmity, Religion]\n",
       "Index: []"
      ]
     },
     "execution_count": 40,
     "metadata": {},
     "output_type": "execute_result"
    }
   ],
   "source": [
    "census_data[(census_data['Age'] < 18) & (census_data['Relationship to Head of House'] == \"Wife\")]"
   ]
  },
  {
   "cell_type": "code",
   "execution_count": 41,
   "id": "22382f12",
   "metadata": {},
   "outputs": [
    {
     "data": {
      "text/html": [
       "<div>\n",
       "<style scoped>\n",
       "    .dataframe tbody tr th:only-of-type {\n",
       "        vertical-align: middle;\n",
       "    }\n",
       "\n",
       "    .dataframe tbody tr th {\n",
       "        vertical-align: top;\n",
       "    }\n",
       "\n",
       "    .dataframe thead th {\n",
       "        text-align: right;\n",
       "    }\n",
       "</style>\n",
       "<table border=\"1\" class=\"dataframe\">\n",
       "  <thead>\n",
       "    <tr style=\"text-align: right;\">\n",
       "      <th></th>\n",
       "      <th>House Number</th>\n",
       "      <th>Street</th>\n",
       "      <th>First Name</th>\n",
       "      <th>Surname</th>\n",
       "      <th>Age</th>\n",
       "      <th>Relationship to Head of House</th>\n",
       "      <th>Marital Status</th>\n",
       "      <th>Gender</th>\n",
       "      <th>Occupation</th>\n",
       "      <th>Infirmity</th>\n",
       "      <th>Religion</th>\n",
       "    </tr>\n",
       "  </thead>\n",
       "  <tbody>\n",
       "  </tbody>\n",
       "</table>\n",
       "</div>"
      ],
      "text/plain": [
       "Empty DataFrame\n",
       "Columns: [House Number, Street, First Name, Surname, Age, Relationship to Head of House, Marital Status, Gender, Occupation, Infirmity, Religion]\n",
       "Index: []"
      ]
     },
     "execution_count": 41,
     "metadata": {},
     "output_type": "execute_result"
    }
   ],
   "source": [
    "census_data[(census_data['Age'] < 18) & (census_data['Relationship to Head of House'] == \"Partner\")]"
   ]
  },
  {
   "cell_type": "code",
   "execution_count": 42,
   "id": "ce35dbc1",
   "metadata": {
    "scrolled": true
   },
   "outputs": [
    {
     "data": {
      "text/html": [
       "<div>\n",
       "<style scoped>\n",
       "    .dataframe tbody tr th:only-of-type {\n",
       "        vertical-align: middle;\n",
       "    }\n",
       "\n",
       "    .dataframe tbody tr th {\n",
       "        vertical-align: top;\n",
       "    }\n",
       "\n",
       "    .dataframe thead th {\n",
       "        text-align: right;\n",
       "    }\n",
       "</style>\n",
       "<table border=\"1\" class=\"dataframe\">\n",
       "  <thead>\n",
       "    <tr style=\"text-align: right;\">\n",
       "      <th></th>\n",
       "      <th>House Number</th>\n",
       "      <th>Street</th>\n",
       "      <th>First Name</th>\n",
       "      <th>Surname</th>\n",
       "      <th>Age</th>\n",
       "      <th>Relationship to Head of House</th>\n",
       "      <th>Marital Status</th>\n",
       "      <th>Gender</th>\n",
       "      <th>Occupation</th>\n",
       "      <th>Infirmity</th>\n",
       "      <th>Religion</th>\n",
       "    </tr>\n",
       "  </thead>\n",
       "  <tbody>\n",
       "    <tr>\n",
       "      <th>2432</th>\n",
       "      <td>7</td>\n",
       "      <td>Edwards Drive</td>\n",
       "      <td>Jenna</td>\n",
       "      <td>Browne</td>\n",
       "      <td>17</td>\n",
       "      <td>Head</td>\n",
       "      <td>Single</td>\n",
       "      <td>Female</td>\n",
       "      <td>Student</td>\n",
       "      <td>None</td>\n",
       "      <td>Unknown</td>\n",
       "    </tr>\n",
       "    <tr>\n",
       "      <th>2665</th>\n",
       "      <td>17</td>\n",
       "      <td>Solstice Lane</td>\n",
       "      <td>Gail</td>\n",
       "      <td>Doyle</td>\n",
       "      <td>16</td>\n",
       "      <td>Head</td>\n",
       "      <td>Single</td>\n",
       "      <td>Female</td>\n",
       "      <td>Student</td>\n",
       "      <td>None</td>\n",
       "      <td>Unknown</td>\n",
       "    </tr>\n",
       "  </tbody>\n",
       "</table>\n",
       "</div>"
      ],
      "text/plain": [
       "      House Number         Street First Name Surname  Age  \\\n",
       "2432             7  Edwards Drive      Jenna  Browne   17   \n",
       "2665            17  Solstice Lane       Gail   Doyle   16   \n",
       "\n",
       "     Relationship to Head of House Marital Status  Gender Occupation  \\\n",
       "2432                          Head         Single  Female    Student   \n",
       "2665                          Head         Single  Female    Student   \n",
       "\n",
       "     Infirmity Religion  \n",
       "2432      None  Unknown  \n",
       "2665      None  Unknown  "
      ]
     },
     "execution_count": 42,
     "metadata": {},
     "output_type": "execute_result"
    }
   ],
   "source": [
    "census_data[(census_data['Age'] < 18) & (census_data['Relationship to Head of House'] == \"Head\")]"
   ]
  },
  {
   "cell_type": "markdown",
   "id": "942900f5",
   "metadata": {},
   "source": [
    "Fix the the obscure 'Relationship to Head of House' Values"
   ]
  },
  {
   "cell_type": "code",
   "execution_count": 43,
   "id": "f83733d3",
   "metadata": {
    "scrolled": true
   },
   "outputs": [],
   "source": [
    "census_data[\"Relationship to Head of House\"].iloc[2432] = \"Daughter\"\n",
    "census_data[\"Relationship to Head of House\"].iloc[2665] = \"Daughter\""
   ]
  },
  {
   "cell_type": "markdown",
   "id": "60997a7b",
   "metadata": {},
   "source": [
    " "
   ]
  },
  {
   "cell_type": "markdown",
   "id": "d1462f44",
   "metadata": {},
   "source": [
    "## E - Census Data Analysis & Visualizations "
   ]
  },
  {
   "cell_type": "markdown",
   "id": "4a122a8f",
   "metadata": {},
   "source": [
    "### Age Visualization"
   ]
  },
  {
   "cell_type": "code",
   "execution_count": 44,
   "id": "817b82dd",
   "metadata": {},
   "outputs": [
    {
     "data": {
      "text/plain": [
       "[Text(0.5, 1.0, 'Age Histogram Plot')]"
      ]
     },
     "execution_count": 44,
     "metadata": {},
     "output_type": "execute_result"
    },
    {
     "data": {
      "image/png": "[encoded data removed]",
      "text/plain": [
       "<Figure size 720x576 with 1 Axes>"
      ]
     },
     "metadata": {
      "needs_background": "light"
     },
     "output_type": "display_data"
    }
   ],
   "source": [
    "plt.figure(figsize = (10,8))\n",
    "\n",
    "sns.histplot(data = census_data,x=\"Age\", bins = 10).set(title='Age Histogram Plot')"
   ]
  },
  {
   "cell_type": "code",
   "execution_count": 45,
   "id": "033b4ff2",
   "metadata": {},
   "outputs": [
    {
     "data": {
      "text/plain": [
       "[Text(0.5, 1.0, 'Age Histogram Plot with Gender Saturation')]"
      ]
     },
     "execution_count": 45,
     "metadata": {},
     "output_type": "execute_result"
    },
    {
     "data": {
      "image/png": "[encoded data removed]",
      "text/plain": [
       "<Figure size 720x576 with 1 Axes>"
      ]
     },
     "metadata": {
      "needs_background": "light"
     },
     "output_type": "display_data"
    }
   ],
   "source": [
    "plt.figure(figsize = (10,8))\n",
    "\n",
    "sns.histplot(data = census_data,x=\"Age\",hue = 'Gender', bins = 10).set(title='Age Histogram Plot with Gender Saturation')"
   ]
  },
  {
   "cell_type": "markdown",
   "id": "a9ee2b8b",
   "metadata": {},
   "source": [
    "### Population Pyramid"
   ]
  },
  {
   "cell_type": "code",
   "execution_count": 46,
   "id": "ef19ebb0",
   "metadata": {},
   "outputs": [],
   "source": [
    "census_data['Age_Dist'] = pd.cut(x=census_data['Age'], bins = [0,5,10,15,20,25,30,35,40,45,50,55,60,65,70,75,80,85,90,95,100,110])\n"
   ]
  },
  {
   "cell_type": "code",
   "execution_count": 47,
   "id": "c3b14f29",
   "metadata": {},
   "outputs": [],
   "source": [
    "census_data_dist = census_data.groupby(['Age_Dist','Gender'])\n",
    "population_dist = census_data_dist.size().unstack()\n",
    "population_dist_fem = population_dist['Female']\n",
    "population_dist_male = population_dist['Male'] * -1\n",
    "\n",
    "new_population_df = pd.DataFrame({'Age': ['0-4','5-9','10-14','15-19','20-24','25-29','30-34','35-39','40-44','45-49','50-54','55-59','60-64','65-69','70-74','75-79','80-84','85-89','90-94','95-99','100+'], \n",
    "                    'Male': population_dist_male, \n",
    "                    'Female': population_dist_fem})"
   ]
  },
  {
   "cell_type": "code",
   "execution_count": 48,
   "id": "ef41f467",
   "metadata": {},
   "outputs": [
    {
     "data": {
      "text/plain": [
       "[Text(0.5, 0, 'Population'),\n",
       " Text(0, 0.5, 'Age-Dist'),\n",
       " Text(0.5, 1.0, 'Population Pyramid')]"
      ]
     },
     "execution_count": 48,
     "metadata": {},
     "output_type": "execute_result"
    },
    {
     "data": {
      "image/png": "[encoded data removed]",
      "text/plain": [
       "<Figure size 720x576 with 1 Axes>"
      ]
     },
     "metadata": {
      "needs_background": "light"
     },
     "output_type": "display_data"
    }
   ],
   "source": [
    "plt.figure(figsize=(10,8))\n",
    "\n",
    "AgeDist = ['100+','95-99','90-94','85-89','80-84','75-79','70-74','65-69','60-64','55-59','50-54','45-49','40-44','35-39','30-34','25-29','20-24','15-19','10-14','5-9','0-4']\n",
    "pyramid_plot = sns.barplot(x='Male', y='Age', data = new_population_df,color=('red'),  order=AgeDist,label='Male',)\n",
    "pyramid_plot = sns.barplot(x='Female', y='Age', data = new_population_df,color=('mediumblue'), order=AgeDist,label='Female',)\n",
    "\n",
    "pyramid_plot.legend()\n",
    "pyramid_plot.set(xlabel=\"Population\", ylabel=\"Age-Dist\", title = \"Population Pyramid\")"
   ]
  },
  {
   "cell_type": "markdown",
   "id": "bc342c56",
   "metadata": {},
   "source": [
    "### Employment trends"
   ]
  },
  {
   "cell_type": "code",
   "execution_count": 49,
   "id": "b193ce81",
   "metadata": {},
   "outputs": [],
   "source": [
    "def occupation_category(status):\n",
    "#     if 'Student' in status:\n",
    "#         return 'Student'\n",
    "    if 'Retired' in status:\n",
    "        return 'Retired'\n",
    "    if 'Unemployed' in status:\n",
    "        return 'Unemployed'\n",
    "    if status not in ['Student', 'Student','Retired','Unemployed','Child','University Student']:\n",
    "        return 'Employed'\n",
    "    else:\n",
    "        return status\n"
   ]
  },
  {
   "cell_type": "code",
   "execution_count": 50,
   "id": "5492166f",
   "metadata": {},
   "outputs": [],
   "source": [
    "census_data['Occupation Category'] = census_data['Occupation'].map(occupation_category)"
   ]
  },
  {
   "cell_type": "code",
   "execution_count": 51,
   "id": "352891a8",
   "metadata": {
    "scrolled": false
   },
   "outputs": [],
   "source": [
    "# Ensure anyone above 65 is not regarded as unemployed\n",
    "\n",
    "for i in range(len(census_data[\"Occupation Category\"])):\n",
    "    if census_data[\"Age\"][i] > 65:\n",
    "        census_data[\"Occupation Category\"][i] = \"Retired\" "
   ]
  },
  {
   "cell_type": "code",
   "execution_count": 52,
   "id": "eaa03f40",
   "metadata": {
    "scrolled": false
   },
   "outputs": [
    {
     "data": {
      "text/plain": [
       "Employed              4342\n",
       "Student               1669\n",
       "Retired                783\n",
       "University Student     559\n",
       "Child                  500\n",
       "Unemployed             476\n",
       "Name: Occupation Category, dtype: int64"
      ]
     },
     "execution_count": 52,
     "metadata": {},
     "output_type": "execute_result"
    }
   ],
   "source": [
    "census_data[\"Occupation Category\"].value_counts()"
   ]
  },
  {
   "cell_type": "code",
   "execution_count": 53,
   "id": "744e170f",
   "metadata": {
    "scrolled": true
   },
   "outputs": [
    {
     "name": "stdout",
     "output_type": "stream",
     "text": [
      "Unemployment Rate is at:  10 %\n"
     ]
    }
   ],
   "source": [
    "print(\"Unemployment Rate is at: \", round(476/(4342+476)*100), \"%\")"
   ]
  },
  {
   "cell_type": "code",
   "execution_count": 54,
   "id": "25251c5e",
   "metadata": {},
   "outputs": [
    {
     "data": {
      "text/plain": [
       "[Text(0.5, 1.0, 'Occupation Category Plot'), Text(0, 0.5, 'Population Count')]"
      ]
     },
     "execution_count": 54,
     "metadata": {},
     "output_type": "execute_result"
    },
    {
     "data": {
      "image/png": "[encoded data removed]",
      "text/plain": [
       "<Figure size 720x576 with 1 Axes>"
      ]
     },
     "metadata": {
      "needs_background": "light"
     },
     "output_type": "display_data"
    }
   ],
   "source": [
    "plt.figure(figsize=(10,8))\n",
    "\n",
    "sns.countplot(data = census_data, x = census_data[\"Occupation Category\"]).set(title=\"Occupation Category Plot\", ylabel = 'Population Count')"
   ]
  },
  {
   "cell_type": "code",
   "execution_count": 55,
   "id": "9538bd3c",
   "metadata": {},
   "outputs": [
    {
     "data": {
      "text/plain": [
       "<AxesSubplot:xlabel='Age', ylabel='Occupation Category'>"
      ]
     },
     "execution_count": 55,
     "metadata": {},
     "output_type": "execute_result"
    },
    {
     "data": {
      "image/png": "[encoded data removed]",
      "text/plain": [
       "<Figure size 720x576 with 1 Axes>"
      ]
     },
     "metadata": {
      "needs_background": "light"
     },
     "output_type": "display_data"
    }
   ],
   "source": [
    "plt.figure(figsize=(10,8))\n",
    "\n",
    "\n",
    "sns.boxplot(data = census_data, x = 'Age',y = 'Occupation Category')"
   ]
  },
  {
   "cell_type": "markdown",
   "id": "23e5447e",
   "metadata": {},
   "source": [
    "### Religion Distribution"
   ]
  },
  {
   "cell_type": "code",
   "execution_count": 56,
   "id": "5aa489e8",
   "metadata": {
    "scrolled": true
   },
   "outputs": [
    {
     "data": {
      "text/plain": [
       "[Text(0.5, 1.0, 'Religion Distribution'), Text(0, 0.5, 'Population Count')]"
      ]
     },
     "execution_count": 56,
     "metadata": {},
     "output_type": "execute_result"
    },
    {
     "data": {
      "image/png": "[encoded data removed]",
      "text/plain": [
       "<Figure size 720x576 with 1 Axes>"
      ]
     },
     "metadata": {
      "needs_background": "light"
     },
     "output_type": "display_data"
    }
   ],
   "source": [
    "plt.figure(figsize=(10,8))\n",
    "\n",
    "sns.countplot(data = census_data,x=\"Religion\").set(title='Religion Distribution', ylabel = \"Population Count\")"
   ]
  },
  {
   "cell_type": "code",
   "execution_count": 57,
   "id": "dbd18520",
   "metadata": {},
   "outputs": [
    {
     "data": {
      "text/plain": [
       "None         2804\n",
       "Unknown      2105\n",
       "Christian    1781\n",
       "Catholic      881\n",
       "Methodist     547\n",
       "Muslim        115\n",
       "Sikh           55\n",
       "Jewish         38\n",
       "Quaker          2\n",
       "Buddist         1\n",
       "Name: Religion, dtype: int64"
      ]
     },
     "execution_count": 57,
     "metadata": {},
     "output_type": "execute_result"
    }
   ],
   "source": [
    "census_data[\"Religion\"].value_counts()"
   ]
  },
  {
   "cell_type": "code",
   "execution_count": 58,
   "id": "c30cc8da",
   "metadata": {},
   "outputs": [
    {
     "data": {
      "text/plain": [
       "[Text(0.5, 1.0, 'Average age for each religion')]"
      ]
     },
     "execution_count": 58,
     "metadata": {},
     "output_type": "execute_result"
    },
    {
     "data": {
      "image/png": "[encoded data removed]",
      "text/plain": [
       "<Figure size 720x360 with 1 Axes>"
      ]
     },
     "metadata": {
      "needs_background": "light"
     },
     "output_type": "display_data"
    }
   ],
   "source": [
    "plt.figure(figsize = (10,5))\n",
    "\n",
    "sns.barplot(\n",
    "    data=census_data, x = \"Age\", y = 'Religion',capsize=.5,  linewidth=2, edgecolor=\".6\", facecolor=(.9,.9, .9, .9),).set(title = \"Average age for each religion\")"
   ]
  },
  {
   "cell_type": "markdown",
   "id": "de46ff3b",
   "metadata": {},
   "source": [
    "### Infirmity"
   ]
  },
  {
   "cell_type": "code",
   "execution_count": 59,
   "id": "ea71631b",
   "metadata": {},
   "outputs": [],
   "source": [
    "infirmity_ = census_data[\"Infirmity\"].value_counts()"
   ]
  },
  {
   "cell_type": "code",
   "execution_count": 60,
   "id": "10b0e2cd",
   "metadata": {},
   "outputs": [
    {
     "data": {
      "text/plain": [
       "None                   8269\n",
       "Physical Disability      17\n",
       "Mental Disability        13\n",
       "Blind                    10\n",
       "Unknown Infection         8\n",
       "Deaf                      8\n",
       "Disabled                  4\n",
       "Name: Infirmity, dtype: int64"
      ]
     },
     "execution_count": 60,
     "metadata": {},
     "output_type": "execute_result"
    }
   ],
   "source": [
    "infirmity_"
   ]
  },
  {
   "cell_type": "code",
   "execution_count": 61,
   "id": "e3d1fee5",
   "metadata": {
    "scrolled": true
   },
   "outputs": [
    {
     "data": {
      "text/html": [
       "<div>\n",
       "<style scoped>\n",
       "    .dataframe tbody tr th:only-of-type {\n",
       "        vertical-align: middle;\n",
       "    }\n",
       "\n",
       "    .dataframe tbody tr th {\n",
       "        vertical-align: top;\n",
       "    }\n",
       "\n",
       "    .dataframe thead th {\n",
       "        text-align: right;\n",
       "    }\n",
       "</style>\n",
       "<table border=\"1\" class=\"dataframe\">\n",
       "  <thead>\n",
       "    <tr style=\"text-align: right;\">\n",
       "      <th></th>\n",
       "      <th>Infirmity</th>\n",
       "    </tr>\n",
       "  </thead>\n",
       "  <tbody>\n",
       "    <tr>\n",
       "      <th>None</th>\n",
       "      <td>8269</td>\n",
       "    </tr>\n",
       "    <tr>\n",
       "      <th>Physical Disability</th>\n",
       "      <td>17</td>\n",
       "    </tr>\n",
       "    <tr>\n",
       "      <th>Mental Disability</th>\n",
       "      <td>13</td>\n",
       "    </tr>\n",
       "    <tr>\n",
       "      <th>Blind</th>\n",
       "      <td>10</td>\n",
       "    </tr>\n",
       "    <tr>\n",
       "      <th>Unknown Infection</th>\n",
       "      <td>8</td>\n",
       "    </tr>\n",
       "    <tr>\n",
       "      <th>Deaf</th>\n",
       "      <td>8</td>\n",
       "    </tr>\n",
       "    <tr>\n",
       "      <th>Disabled</th>\n",
       "      <td>4</td>\n",
       "    </tr>\n",
       "  </tbody>\n",
       "</table>\n",
       "</div>"
      ],
      "text/plain": [
       "                     Infirmity\n",
       "None                      8269\n",
       "Physical Disability         17\n",
       "Mental Disability           13\n",
       "Blind                       10\n",
       "Unknown Infection            8\n",
       "Deaf                         8\n",
       "Disabled                     4"
      ]
     },
     "execution_count": 61,
     "metadata": {},
     "output_type": "execute_result"
    }
   ],
   "source": [
    "infirmity_.to_frame()"
   ]
  },
  {
   "cell_type": "markdown",
   "id": "6693f0e8",
   "metadata": {},
   "source": [
    "### Occupation - University Students"
   ]
  },
  {
   "cell_type": "code",
   "execution_count": 62,
   "id": "99919f57",
   "metadata": {},
   "outputs": [
    {
     "data": {
      "text/html": [
       "<div>\n",
       "<style scoped>\n",
       "    .dataframe tbody tr th:only-of-type {\n",
       "        vertical-align: middle;\n",
       "    }\n",
       "\n",
       "    .dataframe tbody tr th {\n",
       "        vertical-align: top;\n",
       "    }\n",
       "\n",
       "    .dataframe thead th {\n",
       "        text-align: right;\n",
       "    }\n",
       "</style>\n",
       "<table border=\"1\" class=\"dataframe\">\n",
       "  <thead>\n",
       "    <tr style=\"text-align: right;\">\n",
       "      <th></th>\n",
       "      <th>House Number</th>\n",
       "      <th>Street</th>\n",
       "      <th>First Name</th>\n",
       "      <th>Surname</th>\n",
       "      <th>Age</th>\n",
       "      <th>Relationship to Head of House</th>\n",
       "      <th>Marital Status</th>\n",
       "      <th>Gender</th>\n",
       "      <th>Occupation</th>\n",
       "      <th>Infirmity</th>\n",
       "      <th>Religion</th>\n",
       "      <th>Age_Dist</th>\n",
       "      <th>Occupation Category</th>\n",
       "    </tr>\n",
       "  </thead>\n",
       "  <tbody>\n",
       "    <tr>\n",
       "      <th>19</th>\n",
       "      <td>8</td>\n",
       "      <td>Scott Dale</td>\n",
       "      <td>Teresa</td>\n",
       "      <td>Ball</td>\n",
       "      <td>22</td>\n",
       "      <td>Daughter</td>\n",
       "      <td>Single</td>\n",
       "      <td>Female</td>\n",
       "      <td>University Student</td>\n",
       "      <td>None</td>\n",
       "      <td>Christian</td>\n",
       "      <td>(20, 25]</td>\n",
       "      <td>University Student</td>\n",
       "    </tr>\n",
       "    <tr>\n",
       "      <th>34</th>\n",
       "      <td>13</td>\n",
       "      <td>Scott Dale</td>\n",
       "      <td>Amy</td>\n",
       "      <td>Dennis</td>\n",
       "      <td>19</td>\n",
       "      <td>Wife</td>\n",
       "      <td>Married</td>\n",
       "      <td>Female</td>\n",
       "      <td>University Student</td>\n",
       "      <td>None</td>\n",
       "      <td>None</td>\n",
       "      <td>(15, 20]</td>\n",
       "      <td>University Student</td>\n",
       "    </tr>\n",
       "    <tr>\n",
       "      <th>45</th>\n",
       "      <td>19</td>\n",
       "      <td>Scott Dale</td>\n",
       "      <td>Derek</td>\n",
       "      <td>Todd</td>\n",
       "      <td>21</td>\n",
       "      <td>Head</td>\n",
       "      <td>Married</td>\n",
       "      <td>Male</td>\n",
       "      <td>University Student</td>\n",
       "      <td>None</td>\n",
       "      <td>Christian</td>\n",
       "      <td>(20, 25]</td>\n",
       "      <td>University Student</td>\n",
       "    </tr>\n",
       "    <tr>\n",
       "      <th>46</th>\n",
       "      <td>19</td>\n",
       "      <td>Scott Dale</td>\n",
       "      <td>Maureen</td>\n",
       "      <td>Todd</td>\n",
       "      <td>19</td>\n",
       "      <td>Wife</td>\n",
       "      <td>Married</td>\n",
       "      <td>Female</td>\n",
       "      <td>University Student</td>\n",
       "      <td>None</td>\n",
       "      <td>Christian</td>\n",
       "      <td>(15, 20]</td>\n",
       "      <td>University Student</td>\n",
       "    </tr>\n",
       "    <tr>\n",
       "      <th>55</th>\n",
       "      <td>22</td>\n",
       "      <td>Scott Dale</td>\n",
       "      <td>Diana</td>\n",
       "      <td>Gill</td>\n",
       "      <td>20</td>\n",
       "      <td>Lodger</td>\n",
       "      <td>Divorced</td>\n",
       "      <td>Female</td>\n",
       "      <td>University Student</td>\n",
       "      <td>None</td>\n",
       "      <td>None</td>\n",
       "      <td>(15, 20]</td>\n",
       "      <td>University Student</td>\n",
       "    </tr>\n",
       "    <tr>\n",
       "      <th>...</th>\n",
       "      <td>...</td>\n",
       "      <td>...</td>\n",
       "      <td>...</td>\n",
       "      <td>...</td>\n",
       "      <td>...</td>\n",
       "      <td>...</td>\n",
       "      <td>...</td>\n",
       "      <td>...</td>\n",
       "      <td>...</td>\n",
       "      <td>...</td>\n",
       "      <td>...</td>\n",
       "      <td>...</td>\n",
       "      <td>...</td>\n",
       "    </tr>\n",
       "    <tr>\n",
       "      <th>8281</th>\n",
       "      <td>1</td>\n",
       "      <td>White Granary</td>\n",
       "      <td>Dawn</td>\n",
       "      <td>Jones</td>\n",
       "      <td>20</td>\n",
       "      <td>Daughter</td>\n",
       "      <td>Single</td>\n",
       "      <td>Female</td>\n",
       "      <td>University Student</td>\n",
       "      <td>None</td>\n",
       "      <td>Christian</td>\n",
       "      <td>(15, 20]</td>\n",
       "      <td>University Student</td>\n",
       "    </tr>\n",
       "    <tr>\n",
       "      <th>8305</th>\n",
       "      <td>1</td>\n",
       "      <td>Jones Barracks</td>\n",
       "      <td>Andrew</td>\n",
       "      <td>Stevenson</td>\n",
       "      <td>20</td>\n",
       "      <td>Son</td>\n",
       "      <td>Single</td>\n",
       "      <td>Male</td>\n",
       "      <td>University Student</td>\n",
       "      <td>None</td>\n",
       "      <td>None</td>\n",
       "      <td>(15, 20]</td>\n",
       "      <td>University Student</td>\n",
       "    </tr>\n",
       "    <tr>\n",
       "      <th>8306</th>\n",
       "      <td>1</td>\n",
       "      <td>Jones Barracks</td>\n",
       "      <td>Ruth</td>\n",
       "      <td>Stevenson</td>\n",
       "      <td>20</td>\n",
       "      <td>Daughter</td>\n",
       "      <td>Divorced</td>\n",
       "      <td>Female</td>\n",
       "      <td>University Student</td>\n",
       "      <td>None</td>\n",
       "      <td>None</td>\n",
       "      <td>(15, 20]</td>\n",
       "      <td>University Student</td>\n",
       "    </tr>\n",
       "    <tr>\n",
       "      <th>8313</th>\n",
       "      <td>1</td>\n",
       "      <td>Jones Barracks</td>\n",
       "      <td>Emma</td>\n",
       "      <td>Price</td>\n",
       "      <td>20</td>\n",
       "      <td>Lodger</td>\n",
       "      <td>Single</td>\n",
       "      <td>Female</td>\n",
       "      <td>University Student</td>\n",
       "      <td>None</td>\n",
       "      <td>Christian</td>\n",
       "      <td>(15, 20]</td>\n",
       "      <td>University Student</td>\n",
       "    </tr>\n",
       "    <tr>\n",
       "      <th>8315</th>\n",
       "      <td>1</td>\n",
       "      <td>Jones Barracks</td>\n",
       "      <td>Joe</td>\n",
       "      <td>Ellis</td>\n",
       "      <td>21</td>\n",
       "      <td>Lodger</td>\n",
       "      <td>Single</td>\n",
       "      <td>Male</td>\n",
       "      <td>University Student</td>\n",
       "      <td>None</td>\n",
       "      <td>Methodist</td>\n",
       "      <td>(20, 25]</td>\n",
       "      <td>University Student</td>\n",
       "    </tr>\n",
       "  </tbody>\n",
       "</table>\n",
       "<p>559 rows × 13 columns</p>\n",
       "</div>"
      ],
      "text/plain": [
       "      House Number          Street First Name    Surname  Age  \\\n",
       "19               8      Scott Dale     Teresa       Ball   22   \n",
       "34              13      Scott Dale        Amy     Dennis   19   \n",
       "45              19      Scott Dale      Derek       Todd   21   \n",
       "46              19      Scott Dale    Maureen       Todd   19   \n",
       "55              22      Scott Dale      Diana       Gill   20   \n",
       "...            ...             ...        ...        ...  ...   \n",
       "8281             1   White Granary       Dawn      Jones   20   \n",
       "8305             1  Jones Barracks     Andrew  Stevenson   20   \n",
       "8306             1  Jones Barracks       Ruth  Stevenson   20   \n",
       "8313             1  Jones Barracks       Emma      Price   20   \n",
       "8315             1  Jones Barracks        Joe      Ellis   21   \n",
       "\n",
       "     Relationship to Head of House Marital Status  Gender          Occupation  \\\n",
       "19                        Daughter         Single  Female  University Student   \n",
       "34                            Wife        Married  Female  University Student   \n",
       "45                            Head        Married    Male  University Student   \n",
       "46                            Wife        Married  Female  University Student   \n",
       "55                          Lodger       Divorced  Female  University Student   \n",
       "...                            ...            ...     ...                 ...   \n",
       "8281                      Daughter         Single  Female  University Student   \n",
       "8305                           Son         Single    Male  University Student   \n",
       "8306                      Daughter       Divorced  Female  University Student   \n",
       "8313                        Lodger         Single  Female  University Student   \n",
       "8315                        Lodger         Single    Male  University Student   \n",
       "\n",
       "     Infirmity   Religion  Age_Dist Occupation Category  \n",
       "19        None  Christian  (20, 25]  University Student  \n",
       "34        None       None  (15, 20]  University Student  \n",
       "45        None  Christian  (20, 25]  University Student  \n",
       "46        None  Christian  (15, 20]  University Student  \n",
       "55        None       None  (15, 20]  University Student  \n",
       "...        ...        ...       ...                 ...  \n",
       "8281      None  Christian  (15, 20]  University Student  \n",
       "8305      None       None  (15, 20]  University Student  \n",
       "8306      None       None  (15, 20]  University Student  \n",
       "8313      None  Christian  (15, 20]  University Student  \n",
       "8315      None  Methodist  (20, 25]  University Student  \n",
       "\n",
       "[559 rows x 13 columns]"
      ]
     },
     "execution_count": 62,
     "metadata": {},
     "output_type": "execute_result"
    }
   ],
   "source": [
    "census_data[(census_data['Occupation'] =='University Student')]"
   ]
  },
  {
   "cell_type": "markdown",
   "id": "07714ae3",
   "metadata": {},
   "source": [
    "### Occupancy"
   ]
  },
  {
   "cell_type": "code",
   "execution_count": 63,
   "id": "b32cd677",
   "metadata": {},
   "outputs": [],
   "source": [
    "occupancy_rate = census_data.groupby(['House Number','Street']).size()#.reset_index(name='Occupancy')\n"
   ]
  },
  {
   "cell_type": "code",
   "execution_count": 64,
   "id": "2f703f82",
   "metadata": {},
   "outputs": [
    {
     "data": {
      "text/html": [
       "<div>\n",
       "<style scoped>\n",
       "    .dataframe tbody tr th:only-of-type {\n",
       "        vertical-align: middle;\n",
       "    }\n",
       "\n",
       "    .dataframe tbody tr th {\n",
       "        vertical-align: top;\n",
       "    }\n",
       "\n",
       "    .dataframe thead th {\n",
       "        text-align: right;\n",
       "    }\n",
       "</style>\n",
       "<table border=\"1\" class=\"dataframe\">\n",
       "  <thead>\n",
       "    <tr style=\"text-align: right;\">\n",
       "      <th></th>\n",
       "      <th>Occupancy_Rate</th>\n",
       "    </tr>\n",
       "  </thead>\n",
       "  <tbody>\n",
       "    <tr>\n",
       "      <th>count</th>\n",
       "      <td>2824.000000</td>\n",
       "    </tr>\n",
       "    <tr>\n",
       "      <th>mean</th>\n",
       "      <td>2.949363</td>\n",
       "    </tr>\n",
       "    <tr>\n",
       "      <th>std</th>\n",
       "      <td>2.045338</td>\n",
       "    </tr>\n",
       "    <tr>\n",
       "      <th>min</th>\n",
       "      <td>1.000000</td>\n",
       "    </tr>\n",
       "    <tr>\n",
       "      <th>25%</th>\n",
       "      <td>2.000000</td>\n",
       "    </tr>\n",
       "    <tr>\n",
       "      <th>50%</th>\n",
       "      <td>2.000000</td>\n",
       "    </tr>\n",
       "    <tr>\n",
       "      <th>75%</th>\n",
       "      <td>4.000000</td>\n",
       "    </tr>\n",
       "    <tr>\n",
       "      <th>max</th>\n",
       "      <td>22.000000</td>\n",
       "    </tr>\n",
       "  </tbody>\n",
       "</table>\n",
       "</div>"
      ],
      "text/plain": [
       "       Occupancy_Rate\n",
       "count     2824.000000\n",
       "mean         2.949363\n",
       "std          2.045338\n",
       "min          1.000000\n",
       "25%          2.000000\n",
       "50%          2.000000\n",
       "75%          4.000000\n",
       "max         22.000000"
      ]
     },
     "execution_count": 64,
     "metadata": {},
     "output_type": "execute_result"
    }
   ],
   "source": [
    "occupancy_rate.to_frame(name = (\"Occupancy_Rate\")).describe()"
   ]
  },
  {
   "cell_type": "markdown",
   "id": "6bfbca90",
   "metadata": {},
   "source": [
    "### BirthRate"
   ]
  },
  {
   "cell_type": "code",
   "execution_count": 65,
   "id": "f0eab754",
   "metadata": {},
   "outputs": [],
   "source": [
    "\n",
    "census_birth_count = census_data[(census_data['Age'] == 0)]['Age'].value_counts().sum()\n"
   ]
  },
  {
   "cell_type": "code",
   "execution_count": 66,
   "id": "a56a3329",
   "metadata": {},
   "outputs": [],
   "source": [
    "woman_birth_count =  census_data[(census_data['Gender'] == 'Female') & ((census_data['Age'] >= 25) & (census_data['Age'] <= 29))].value_counts().sum()"
   ]
  },
  {
   "cell_type": "code",
   "execution_count": 67,
   "id": "e19804f7",
   "metadata": {},
   "outputs": [],
   "source": [
    "crude_birth_rate = (census_birth_count / 8329)*1000"
   ]
  },
  {
   "cell_type": "code",
   "execution_count": 68,
   "id": "5866655f",
   "metadata": {},
   "outputs": [
    {
     "name": "stdout",
     "output_type": "stream",
     "text": [
      "The birth rate per 1000 is:  10.57\n"
     ]
    }
   ],
   "source": [
    "print(\"The birth rate per 1000 is: \",round(crude_birth_rate,2))"
   ]
  },
  {
   "cell_type": "markdown",
   "id": "6c1d914a",
   "metadata": {},
   "source": [
    "### Death Rate"
   ]
  },
  {
   "cell_type": "code",
   "execution_count": 69,
   "id": "7e26a722",
   "metadata": {},
   "outputs": [],
   "source": [
    "current_pop_num = census_data[census_data['Age'].between(0,106)].groupby('Age').size()\n",
    "previous_pop_num = current_pop_num.shift(-1)"
   ]
  },
  {
   "cell_type": "code",
   "execution_count": 70,
   "id": "df3ceb3e",
   "metadata": {},
   "outputs": [],
   "source": [
    "diff_in_pop = current_pop_num - previous_pop_num\n",
    "diff_in_pop = diff_in_pop.reset_index(name='Count')\n",
    "death = diff_in_pop[diff_in_pop['Count'] < 0].sum()\n",
    "\n"
   ]
  },
  {
   "cell_type": "code",
   "execution_count": 71,
   "id": "7948221b",
   "metadata": {},
   "outputs": [
    {
     "data": {
      "text/plain": [
       "Age      1858.0\n",
       "Count    -444.0\n",
       "dtype: float64"
      ]
     },
     "execution_count": 71,
     "metadata": {},
     "output_type": "execute_result"
    }
   ],
   "source": [
    "death"
   ]
  },
  {
   "cell_type": "code",
   "execution_count": 72,
   "id": "4f5a25de",
   "metadata": {},
   "outputs": [],
   "source": [
    "crude_death_rate = (444/8329) * 1000"
   ]
  },
  {
   "cell_type": "code",
   "execution_count": 73,
   "id": "c8f99961",
   "metadata": {
    "scrolled": true
   },
   "outputs": [
    {
     "name": "stdout",
     "output_type": "stream",
     "text": [
      "The death rate per 1000 is:  53.31\n"
     ]
    }
   ],
   "source": [
    "print(\"The death rate per 1000 is: \",round(crude_death_rate,2) )"
   ]
  },
  {
   "cell_type": "markdown",
   "id": "6638cc0e",
   "metadata": {},
   "source": [
    "### Dependency Ratio"
   ]
  },
  {
   "cell_type": "code",
   "execution_count": 74,
   "id": "623b5ac1",
   "metadata": {},
   "outputs": [
    {
     "name": "stdout",
     "output_type": "stream",
     "text": [
      "The dependency ratio is:  42.57\n"
     ]
    }
   ],
   "source": [
    "child_pop= census_data[(census_data['Age'] <= 14)]['Gender'].value_counts().sum()\n",
    "elder_pop = census_data[(census_data['Age'] >65)]['Gender'].value_counts().sum()\n",
    "work_population = census_data[(census_data['Age'] >= 15) & (census_data['Age'] <= 65)]['Gender'].value_counts().sum()\n",
    "\n",
    "dep_ratio = ((child_pop+elder_pop)/work_population) * 100\n",
    "print('The dependency ratio is: ',round(dep_ratio,2))"
   ]
  },
  {
   "cell_type": "markdown",
   "id": "9430d088",
   "metadata": {},
   "source": [
    "### Commuters"
   ]
  },
  {
   "cell_type": "code",
   "execution_count": 75,
   "id": "35fc8181",
   "metadata": {},
   "outputs": [
    {
     "name": "stdout",
     "output_type": "stream",
     "text": [
      "The percentage of Commuters is : 7.06\n"
     ]
    }
   ],
   "source": [
    "commuters = census_data[(census_data['Relationship to Head of House'] == \"Visitor\")]['Gender'].value_counts().sum() + census_data[(census_data['Occupation'] == \"University Student\")]['Gender'].value_counts().sum()\n",
    "\n",
    "percent_commuters = (commuters/8329) * 100\n",
    "print(\"The percentage of Commuters is :\",round(percent_commuters,2))"
   ]
  },
  {
   "cell_type": "markdown",
   "id": "86e9342e",
   "metadata": {},
   "source": [
    " "
   ]
  }
 ],
 "metadata": {
  "kernelspec": {
   "display_name": "Python 3 (ipykernel)",
   "language": "python",
   "name": "python3"
  },
  "language_info": {
   "codemirror_mode": {
    "name": "ipython",
    "version": 3
   },
   "file_extension": ".py",
   "mimetype": "text/x-python",
   "name": "python",
   "nbconvert_exporter": "python",
   "pygments_lexer": "ipython3",
   "version": "3.9.12"
  }
 },
 "nbformat": 4,
 "nbformat_minor": 5
}
